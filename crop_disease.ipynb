{
  "nbformat": 4,
  "nbformat_minor": 0,
  "metadata": {
    "colab": {
      "provenance": [],
      "gpuType": "T4",
      "mount_file_id": "13oZ92i2eFQt6c-nKFrvONnKxYobbs8ux",
      "authorship_tag": "ABX9TyMsQgQzCKCVTBHgsvarlhUo",
      "include_colab_link": true
    },
    "kernelspec": {
      "name": "python3",
      "display_name": "Python 3"
    },
    "language_info": {
      "name": "python"
    },
    "accelerator": "GPU"
  },
  "cells": [
    {
      "cell_type": "markdown",
      "metadata": {
        "id": "view-in-github",
        "colab_type": "text"
      },
      "source": [
        "<a href=\"https://colab.research.google.com/github/ardrapadmakumar/plant-disease-detection/blob/main/crop_disease.ipynb\" target=\"_parent\"><img src=\"https://colab.research.google.com/assets/colab-badge.svg\" alt=\"Open In Colab\"/></a>"
      ]
    },
    {
      "cell_type": "markdown",
      "source": [
        "**Importing Libraries**"
      ],
      "metadata": {
        "id": "KMo3rg1U0SOr"
      }
    },
    {
      "cell_type": "code",
      "source": [
        "import tensorflow as tf\n",
        "import matplotlib.pyplot as plt\n",
        "import pandas as pd\n",
        "import seaborn as sns"
      ],
      "metadata": {
        "id": "Zo6T084I0Qe7"
      },
      "execution_count": 31,
      "outputs": []
    },
    {
      "cell_type": "markdown",
      "source": [
        "Unzipping dataset"
      ],
      "metadata": {
        "id": "PUF0fmuUOI88"
      }
    },
    {
      "cell_type": "code",
      "source": [
        "import zipfile\n",
        "import os\n",
        "\n",
        "# Path to your zip file in Google Drive\n",
        "zip_path = \"/content/drive/MyDrive/dataset/crop_dataset/Crop_disease/crop_diesease/train.zip\"\n",
        "\n",
        "# Path to extract\n",
        "extract_path = \"/content/drive/MyDrive/dataset/crop_dataset/Crop_disease/crop_diesease\"\n",
        "\n",
        "# Unzipping\n",
        "with zipfile.ZipFile(zip_path, 'r') as zip_ref:\n",
        "  zip_ref.extractall(extract_path)\n",
        "\n",
        "print(\"Extraction completed!\")"
      ],
      "metadata": {
        "id": "046PsIBhONMc",
        "colab": {
          "base_uri": "https://localhost:8080/"
        },
        "outputId": "6ee7b855-42a7-466a-8e35-425697d3fb7d"
      },
      "execution_count": 26,
      "outputs": [
        {
          "output_type": "stream",
          "name": "stdout",
          "text": [
            "Extraction completed!\n"
          ]
        }
      ]
    },
    {
      "cell_type": "markdown",
      "source": [
        "To find no of files:"
      ],
      "metadata": {
        "id": "gk5E5c8WCPjd"
      }
    },
    {
      "cell_type": "code",
      "source": [
        "import os\n",
        "\n",
        "train_dir = \"/content/drive/MyDrive/dataset/crop_dataset/Crop_disease/crop_diesease/train\"\n",
        "\n",
        "file_count = sum(len(files) for _, _, files in os.walk(train_dir))\n",
        "print(f\"Total files in train folder: {file_count}\")"
      ],
      "metadata": {
        "colab": {
          "base_uri": "https://localhost:8080/"
        },
        "id": "bl9-6DmyCS1x",
        "outputId": "d63cc786-817d-44ed-9d54-37c889fb10bf"
      },
      "execution_count": 27,
      "outputs": [
        {
          "output_type": "stream",
          "name": "stdout",
          "text": [
            "Total files in train folder: 70296\n"
          ]
        }
      ]
    },
    {
      "cell_type": "markdown",
      "source": [
        "**Data Preprocessing**\n"
      ],
      "metadata": {
        "id": "H_yV8y6y1idM"
      }
    },
    {
      "cell_type": "markdown",
      "source": [
        "Train- Image Preprocessing"
      ],
      "metadata": {
        "id": "ckn1_Gd_2LlP"
      }
    },
    {
      "cell_type": "code",
      "source": [
        "training_set = tf.keras.utils.image_dataset_from_directory(\n",
        "    '/content/drive/MyDrive/dataset/crop_dataset/Crop_disease/crop_diesease/train',\n",
        "    labels=\"inferred\",\n",
        "    label_mode=\"categorical\",\n",
        "    class_names=None,\n",
        "    color_mode=\"rgb\",\n",
        "    batch_size=32,\n",
        "    image_size=(128, 128),\n",
        "    shuffle=True,\n",
        "    seed=None,\n",
        "    validation_split=None,\n",
        "    subset=None,\n",
        "    interpolation=\"bilinear\",\n",
        "    follow_links=False,\n",
        "    crop_to_aspect_ratio=False,\n",
        "    pad_to_aspect_ratio=False,\n",
        "    verbose=True,\n",
        ")"
      ],
      "metadata": {
        "id": "wz1J6_EC1pfj",
        "colab": {
          "base_uri": "https://localhost:8080/"
        },
        "outputId": "b5e76905-a731-4a4c-a87b-fc6da0cfec23"
      },
      "execution_count": 28,
      "outputs": [
        {
          "output_type": "stream",
          "name": "stdout",
          "text": [
            "Found 70295 files belonging to 38 classes.\n"
          ]
        }
      ]
    },
    {
      "cell_type": "markdown",
      "source": [
        "Validation Image Processing"
      ],
      "metadata": {
        "id": "lUiLbK_ctyuL"
      }
    },
    {
      "cell_type": "code",
      "source": [
        "validation_set = tf.keras.utils.image_dataset_from_directory(\n",
        "    '/content/drive/MyDrive/dataset/crop_dataset/Crop_disease/crop_diesease/valid',\n",
        "    labels=\"inferred\",\n",
        "    label_mode=\"categorical\",\n",
        "    class_names=None,\n",
        "    color_mode=\"rgb\",\n",
        "    batch_size=32,\n",
        "    image_size=(128, 128),\n",
        "    shuffle=True,\n",
        "    seed=None,\n",
        "    validation_split=None,\n",
        "    subset=None,\n",
        "    interpolation=\"bilinear\",\n",
        "    follow_links=False,\n",
        "    crop_to_aspect_ratio=False,\n",
        "    pad_to_aspect_ratio=False,\n",
        "    verbose=True,\n",
        ")"
      ],
      "metadata": {
        "colab": {
          "base_uri": "https://localhost:8080/"
        },
        "id": "j3LbKKb7t8SH",
        "outputId": "3a7cecf3-46ef-4da3-a3a5-cfed1672beee"
      },
      "execution_count": null,
      "outputs": [
        {
          "output_type": "stream",
          "name": "stdout",
          "text": [
            "Found 17572 files belonging to 38 classes.\n"
          ]
        }
      ]
    },
    {
      "cell_type": "code",
      "source": [
        "training_set"
      ],
      "metadata": {
        "colab": {
          "base_uri": "https://localhost:8080/"
        },
        "id": "OcaztiZChpod",
        "outputId": "35e21eee-bc28-461f-d7dc-44fb053d724f"
      },
      "execution_count": 29,
      "outputs": [
        {
          "output_type": "execute_result",
          "data": {
            "text/plain": [
              "<_PrefetchDataset element_spec=(TensorSpec(shape=(None, 128, 128, 3), dtype=tf.float32, name=None), TensorSpec(shape=(None, 38), dtype=tf.float32, name=None))>"
            ]
          },
          "metadata": {},
          "execution_count": 29
        }
      ]
    },
    {
      "cell_type": "code",
      "source": [
        "for x,y in training_set:\n",
        "  print(x,x.shape)\n",
        "  print(y,y.shape)\n",
        "  break"
      ],
      "metadata": {
        "colab": {
          "base_uri": "https://localhost:8080/"
        },
        "id": "nUZu71R0htco",
        "outputId": "9818a9d1-1a3d-462a-bcf0-a6e2f1dffc1d"
      },
      "execution_count": 30,
      "outputs": [
        {
          "output_type": "stream",
          "name": "stdout",
          "text": [
            "tf.Tensor(\n",
            "[[[[124.25 115.75  96.75]\n",
            "   [126.25 117.75 100.25]\n",
            "   [129.   120.5  103.5 ]\n",
            "   ...\n",
            "   [173.   171.   174.  ]\n",
            "   [173.5  171.5  174.5 ]\n",
            "   [176.25 174.25 177.25]]\n",
            "\n",
            "  [[144.5  136.25 128.75]\n",
            "   [147.   138.25 132.  ]\n",
            "   [150.25 141.25 135.5 ]\n",
            "   ...\n",
            "   [178.   176.   179.  ]\n",
            "   [178.   176.   179.  ]\n",
            "   [173.   171.   174.  ]]\n",
            "\n",
            "  [[153.5  146.75 150.25]\n",
            "   [154.5  147.75 152.25]\n",
            "   [156.   149.25 153.75]\n",
            "   ...\n",
            "   [175.   173.   176.  ]\n",
            "   [173.75 171.75 174.75]\n",
            "   [174.   172.   175.  ]]\n",
            "\n",
            "  ...\n",
            "\n",
            "  [[135.5  129.5  131.5 ]\n",
            "   [138.5  132.5  134.5 ]\n",
            "   [140.75 134.75 136.75]\n",
            "   ...\n",
            "   [138.25 124.25 123.25]\n",
            "   [132.5  116.5  116.5 ]\n",
            "   [130.25 114.25 114.25]]\n",
            "\n",
            "  [[139.   133.   135.  ]\n",
            "   [135.   129.   131.  ]\n",
            "   [134.25 128.25 130.25]\n",
            "   ...\n",
            "   [134.75 120.75 119.75]\n",
            "   [131.   115.   115.  ]\n",
            "   [126.25 110.25 110.25]]\n",
            "\n",
            "  [[134.75 128.75 130.75]\n",
            "   [136.   130.   132.  ]\n",
            "   [137.25 131.25 133.25]\n",
            "   ...\n",
            "   [123.   109.   108.  ]\n",
            "   [122.75 106.75 106.75]\n",
            "   [120.75 104.75 104.75]]]\n",
            "\n",
            "\n",
            " [[[192.   189.   184.  ]\n",
            "   [192.5  189.5  184.5 ]\n",
            "   [190.   187.   182.  ]\n",
            "   ...\n",
            "   [206.5  202.5  203.5 ]\n",
            "   [200.5  196.5  197.5 ]\n",
            "   [203.25 199.25 200.25]]\n",
            "\n",
            "  [[186.25 183.25 178.25]\n",
            "   [188.5  185.5  180.5 ]\n",
            "   [188.75 185.75 180.75]\n",
            "   ...\n",
            "   [205.   201.   202.  ]\n",
            "   [202.75 198.75 199.75]\n",
            "   [190.25 186.25 187.25]]\n",
            "\n",
            "  [[191.75 188.75 183.75]\n",
            "   [192.5  189.5  184.5 ]\n",
            "   [191.25 188.25 183.25]\n",
            "   ...\n",
            "   [203.5  199.5  200.5 ]\n",
            "   [204.25 200.25 201.25]\n",
            "   [211.5  207.5  208.5 ]]\n",
            "\n",
            "  ...\n",
            "\n",
            "  [[178.75 161.75 153.75]\n",
            "   [182.   165.   157.  ]\n",
            "   [178.   161.   153.  ]\n",
            "   ...\n",
            "   [166.75 153.75 147.75]\n",
            "   [170.   157.   151.  ]\n",
            "   [163.5  150.5  144.5 ]]\n",
            "\n",
            "  [[180.   163.   155.  ]\n",
            "   [185.25 168.25 160.25]\n",
            "   [177.5  160.5  152.5 ]\n",
            "   ...\n",
            "   [176.5  163.5  157.5 ]\n",
            "   [181.   168.   162.  ]\n",
            "   [167.   154.   148.  ]]\n",
            "\n",
            "  [[174.5  157.5  149.5 ]\n",
            "   [182.25 165.25 157.25]\n",
            "   [172.5  155.5  147.5 ]\n",
            "   ...\n",
            "   [162.   149.   143.  ]\n",
            "   [168.   155.   149.  ]\n",
            "   [167.75 154.75 148.75]]]\n",
            "\n",
            "\n",
            " [[[146.25 138.25 135.25]\n",
            "   [145.   137.   134.  ]\n",
            "   [146.   138.   135.  ]\n",
            "   ...\n",
            "   [154.   150.   151.  ]\n",
            "   [161.   157.   158.  ]\n",
            "   [154.5  150.5  151.5 ]]\n",
            "\n",
            "  [[149.75 141.75 138.75]\n",
            "   [153.   145.   142.  ]\n",
            "   [147.75 139.75 136.75]\n",
            "   ...\n",
            "   [152.5  148.5  149.5 ]\n",
            "   [162.5  158.5  159.5 ]\n",
            "   [166.5  162.5  163.5 ]]\n",
            "\n",
            "  [[152.25 144.25 141.25]\n",
            "   [150.   142.   139.  ]\n",
            "   [149.5  141.5  138.5 ]\n",
            "   ...\n",
            "   [154.75 150.75 151.75]\n",
            "   [162.75 158.75 159.75]\n",
            "   [166.75 162.75 163.75]]\n",
            "\n",
            "  ...\n",
            "\n",
            "  [[165.   160.   157.  ]\n",
            "   [168.25 163.25 160.25]\n",
            "   [169.5  164.5  161.5 ]\n",
            "   ...\n",
            "   [186.25 186.25 188.25]\n",
            "   [187.25 187.25 189.25]\n",
            "   [195.25 195.25 197.25]]\n",
            "\n",
            "  [[162.75 157.75 154.75]\n",
            "   [168.75 163.75 160.75]\n",
            "   [168.   163.   160.  ]\n",
            "   ...\n",
            "   [183.75 183.75 185.75]\n",
            "   [186.5  186.5  188.5 ]\n",
            "   [196.5  196.5  198.5 ]]\n",
            "\n",
            "  [[165.75 160.75 157.75]\n",
            "   [169.75 164.75 161.75]\n",
            "   [162.25 157.25 154.25]\n",
            "   ...\n",
            "   [193.   193.   195.  ]\n",
            "   [184.25 184.25 186.25]\n",
            "   [189.75 189.75 191.75]]]\n",
            "\n",
            "\n",
            " ...\n",
            "\n",
            "\n",
            " [[[125.75 113.75 113.75]\n",
            "   [128.5  116.5  116.5 ]\n",
            "   [135.75 123.75 123.75]\n",
            "   ...\n",
            "   [181.75 172.75 175.75]\n",
            "   [181.25 172.25 175.25]\n",
            "   [180.5  171.5  174.5 ]]\n",
            "\n",
            "  [[137.   125.   125.  ]\n",
            "   [159.75 147.75 147.75]\n",
            "   [136.   124.   124.  ]\n",
            "   ...\n",
            "   [189.5  180.5  183.5 ]\n",
            "   [188.25 179.25 182.25]\n",
            "   [183.   174.   177.  ]]\n",
            "\n",
            "  [[145.75 133.75 133.75]\n",
            "   [123.25 111.25 111.25]\n",
            "   [147.25 135.25 135.25]\n",
            "   ...\n",
            "   [185.75 176.75 179.75]\n",
            "   [178.25 169.25 172.25]\n",
            "   [185.25 176.25 179.25]]\n",
            "\n",
            "  ...\n",
            "\n",
            "  [[147.75 135.75 135.75]\n",
            "   [143.75 131.75 131.75]\n",
            "   [135.25 123.25 123.25]\n",
            "   ...\n",
            "   [198.75 192.75 194.75]\n",
            "   [194.5  188.5  190.5 ]\n",
            "   [197.5  191.5  193.5 ]]\n",
            "\n",
            "  [[130.5  118.5  118.5 ]\n",
            "   [137.5  125.5  125.5 ]\n",
            "   [139.5  127.5  127.5 ]\n",
            "   ...\n",
            "   [195.25 189.25 191.25]\n",
            "   [198.25 192.25 194.25]\n",
            "   [195.5  189.5  191.5 ]]\n",
            "\n",
            "  [[141.   129.   129.  ]\n",
            "   [135.75 123.75 123.75]\n",
            "   [151.   139.   139.  ]\n",
            "   ...\n",
            "   [190.   184.   186.  ]\n",
            "   [188.25 182.25 184.25]\n",
            "   [191.   185.   187.  ]]]\n",
            "\n",
            "\n",
            " [[[ 93.75 106.75 123.25]\n",
            "   [ 89.   100.   120.5 ]\n",
            "   [ 84.    91.   117.5 ]\n",
            "   ...\n",
            "   [138.25 155.25 185.25]\n",
            "   [138.75 155.75 185.75]\n",
            "   [144.75 161.75 191.75]]\n",
            "\n",
            "  [[ 96.5  109.   129.5 ]\n",
            "   [ 81.    91.75 114.  ]\n",
            "   [ 89.25  96.25 125.  ]\n",
            "   ...\n",
            "   [143.   160.   190.  ]\n",
            "   [139.75 156.75 186.75]\n",
            "   [142.   159.   189.  ]]\n",
            "\n",
            "  [[ 98.25 108.25 134.25]\n",
            "   [ 91.5  100.75 129.75]\n",
            "   [ 88.5   94.75 126.5 ]\n",
            "   ...\n",
            "   [140.   157.   187.  ]\n",
            "   [139.5  156.5  186.5 ]\n",
            "   [141.75 158.75 188.75]]\n",
            "\n",
            "  ...\n",
            "\n",
            "  [[111.5  120.5  149.5 ]\n",
            "   [114.   123.   152.  ]\n",
            "   [115.5  124.5  153.5 ]\n",
            "   ...\n",
            "   [174.25 192.25 216.25]\n",
            "   [171.75 189.75 213.75]\n",
            "   [171.5  189.5  213.5 ]]\n",
            "\n",
            "  [[106.25 115.25 144.25]\n",
            "   [118.5  127.5  156.5 ]\n",
            "   [110.5  119.5  148.5 ]\n",
            "   ...\n",
            "   [174.5  192.5  216.5 ]\n",
            "   [173.75 191.75 215.75]\n",
            "   [174.25 192.25 216.25]]\n",
            "\n",
            "  [[110.5  119.5  148.5 ]\n",
            "   [110.75 119.75 148.75]\n",
            "   [105.25 114.25 143.25]\n",
            "   ...\n",
            "   [169.5  187.5  211.5 ]\n",
            "   [168.25 186.25 210.25]\n",
            "   [168.25 186.25 210.25]]]\n",
            "\n",
            "\n",
            " [[[116.25 109.25 116.25]\n",
            "   [122.   115.   122.  ]\n",
            "   [125.   118.   125.  ]\n",
            "   ...\n",
            "   [130.75 123.75 130.75]\n",
            "   [128.25 121.25 128.25]\n",
            "   [120.75 113.75 120.75]]\n",
            "\n",
            "  [[115.   108.   115.  ]\n",
            "   [116.   109.   116.  ]\n",
            "   [118.5  111.5  118.5 ]\n",
            "   ...\n",
            "   [124.   117.   124.  ]\n",
            "   [128.25 121.25 128.25]\n",
            "   [133.5  126.5  133.5 ]]\n",
            "\n",
            "  [[116.75 109.75 116.75]\n",
            "   [121.   114.   121.  ]\n",
            "   [119.75 112.75 119.75]\n",
            "   ...\n",
            "   [134.   127.   134.  ]\n",
            "   [131.25 124.25 131.25]\n",
            "   [126.25 119.25 126.25]]\n",
            "\n",
            "  ...\n",
            "\n",
            "  [[114.5  110.5  111.5 ]\n",
            "   [113.25 109.25 110.25]\n",
            "   [115.   111.   112.  ]\n",
            "   ...\n",
            "   [102.75  97.75 101.75]\n",
            "   [101.75  96.75 100.75]\n",
            "   [104.    99.   103.  ]]\n",
            "\n",
            "  [[109.   105.   106.  ]\n",
            "   [108.5  104.5  105.5 ]\n",
            "   [111.25 107.25 108.25]\n",
            "   ...\n",
            "   [107.25 102.25 106.25]\n",
            "   [106.25 101.25 105.25]\n",
            "   [103.    98.   102.  ]]\n",
            "\n",
            "  [[111.75 107.75 108.75]\n",
            "   [108.   104.   105.  ]\n",
            "   [111.25 107.25 108.25]\n",
            "   ...\n",
            "   [103.25  98.25 102.25]\n",
            "   [104.    99.   103.  ]\n",
            "   [105.75 100.75 104.75]]]], shape=(32, 128, 128, 3), dtype=float32) (32, 128, 128, 3)\n",
            "tf.Tensor(\n",
            "[[0. 0. 0. ... 0. 0. 0.]\n",
            " [0. 0. 0. ... 0. 0. 0.]\n",
            " [0. 0. 0. ... 0. 0. 0.]\n",
            " ...\n",
            " [0. 0. 0. ... 0. 0. 0.]\n",
            " [0. 0. 0. ... 0. 0. 0.]\n",
            " [0. 0. 0. ... 0. 0. 0.]], shape=(32, 38), dtype=float32) (32, 38)\n"
          ]
        }
      ]
    },
    {
      "cell_type": "markdown",
      "source": [
        "**Building model**"
      ],
      "metadata": {
        "id": "btYNdJD8iIUI"
      }
    },
    {
      "cell_type": "code",
      "source": [
        "from tensorflow.keras.layers import Dense,Conv2D,MaxPool2D, Dropout\n",
        "from tensorflow.keras.models import Sequential"
      ],
      "metadata": {
        "id": "SeCtYan-iMFt"
      },
      "execution_count": 65,
      "outputs": []
    },
    {
      "cell_type": "code",
      "source": [
        "model=Sequential()"
      ],
      "metadata": {
        "id": "V2I-U6Bni8ra"
      },
      "execution_count": 66,
      "outputs": []
    },
    {
      "cell_type": "markdown",
      "source": [
        "Building Convolution Layer"
      ],
      "metadata": {
        "id": "lcQTqxTbjIQ8"
      }
    },
    {
      "cell_type": "code",
      "source": [
        "model.add(Conv2D(filters=32,kernel_size=3,padding='same',activation='relu',input_shape=[128,128,3]))\n",
        "model.add(Conv2D(filters=32,kernel_size=3,activation='relu'))\n",
        "model.add(MaxPool2D(pool_size=2,strides=2))"
      ],
      "metadata": {
        "colab": {
          "base_uri": "https://localhost:8080/"
        },
        "id": "k6wzggXOjC7Q",
        "outputId": "dc470c2d-3b52-4d14-d38d-1988b87b7435"
      },
      "execution_count": 67,
      "outputs": [
        {
          "output_type": "stream",
          "name": "stderr",
          "text": [
            "/usr/local/lib/python3.12/dist-packages/keras/src/layers/convolutional/base_conv.py:113: UserWarning: Do not pass an `input_shape`/`input_dim` argument to a layer. When using Sequential models, prefer using an `Input(shape)` object as the first layer in the model instead.\n",
            "  super().__init__(activity_regularizer=activity_regularizer, **kwargs)\n"
          ]
        }
      ]
    },
    {
      "cell_type": "code",
      "source": [
        "model.add(Conv2D(filters=64,kernel_size=3,padding='same',activation='relu',input_shape=[128,128,3]))\n",
        "model.add(Conv2D(filters=64,kernel_size=3,activation='relu'))\n",
        "model.add(MaxPool2D(pool_size=2,strides=2))"
      ],
      "metadata": {
        "id": "EpI3RWxyke6-"
      },
      "execution_count": 68,
      "outputs": []
    },
    {
      "cell_type": "code",
      "source": [
        "model.add(Conv2D(filters=128,kernel_size=3,padding='same',activation='relu'))\n",
        "model.add(Conv2D(filters=128,kernel_size=3,activation='relu'))\n",
        "model.add(MaxPool2D(pool_size=2,strides=2))"
      ],
      "metadata": {
        "id": "e5KjTuhBkmGN"
      },
      "execution_count": 69,
      "outputs": []
    },
    {
      "cell_type": "code",
      "source": [
        "model.add(Conv2D(filters=256,kernel_size=3,padding='same',activation='relu'))\n",
        "model.add(Conv2D(filters=256,kernel_size=3,activation='relu'))\n",
        "model.add(MaxPool2D(pool_size=2,strides=2))"
      ],
      "metadata": {
        "id": "KiQlIOZckqfC"
      },
      "execution_count": 70,
      "outputs": []
    },
    {
      "cell_type": "code",
      "source": [
        "model.add(Conv2D(filters=512,kernel_size=3,padding='same',activation='relu'))\n",
        "model.add(Conv2D(filters=512,kernel_size=3,activation='relu'))\n",
        "model.add(MaxPool2D(pool_size=2,strides=2))"
      ],
      "metadata": {
        "id": "zOzoPesFsuY3"
      },
      "execution_count": 71,
      "outputs": []
    },
    {
      "cell_type": "code",
      "source": [
        "model.add(Dropout(0.25)) #To avoid overfitting"
      ],
      "metadata": {
        "id": "f4He3BKatvKi"
      },
      "execution_count": 72,
      "outputs": []
    },
    {
      "cell_type": "code",
      "source": [
        "model.add(tf.keras.layers.Flatten())"
      ],
      "metadata": {
        "id": "ZPCfBYqgk03s"
      },
      "execution_count": 73,
      "outputs": []
    },
    {
      "cell_type": "code",
      "source": [
        "model.add(Dense(units=1500,activation='relu'))"
      ],
      "metadata": {
        "id": "wJ5uf5Kqk76R"
      },
      "execution_count": 74,
      "outputs": []
    },
    {
      "cell_type": "code",
      "source": [
        "model.add(Dropout(0.4))"
      ],
      "metadata": {
        "id": "IpJ-kiYuuIjm"
      },
      "execution_count": 75,
      "outputs": []
    },
    {
      "cell_type": "markdown",
      "source": [
        "**Output Layer**"
      ],
      "metadata": {
        "id": "1yjDyO0zlIf1"
      }
    },
    {
      "cell_type": "code",
      "source": [
        "model.add(Dense(units=38,activation='softmax'))"
      ],
      "metadata": {
        "id": "XMLJjBXflMZn"
      },
      "execution_count": 76,
      "outputs": []
    },
    {
      "cell_type": "markdown",
      "source": [
        "**Compiling model**"
      ],
      "metadata": {
        "id": "wJXOOVRMlizb"
      }
    },
    {
      "cell_type": "code",
      "source": [
        "model.compile(optimizer=tf.keras.optimizers.Adam(\n",
        "    learning_rate=0.0001),loss='categorical_crossentropy',metrics=['accuracy'])"
      ],
      "metadata": {
        "id": "4KcES1iHloLI"
      },
      "execution_count": 77,
      "outputs": []
    },
    {
      "cell_type": "code",
      "source": [
        "model.summary()"
      ],
      "metadata": {
        "colab": {
          "base_uri": "https://localhost:8080/",
          "height": 769
        },
        "id": "Z1YGIuOkl_Xd",
        "outputId": "ce802d39-f537-4186-9ef7-4e27e52423db"
      },
      "execution_count": 78,
      "outputs": [
        {
          "output_type": "display_data",
          "data": {
            "text/plain": [
              "\u001b[1mModel: \"sequential_3\"\u001b[0m\n"
            ],
            "text/html": [
              "<pre style=\"white-space:pre;overflow-x:auto;line-height:normal;font-family:Menlo,'DejaVu Sans Mono',consolas,'Courier New',monospace\"><span style=\"font-weight: bold\">Model: \"sequential_3\"</span>\n",
              "</pre>\n"
            ]
          },
          "metadata": {}
        },
        {
          "output_type": "display_data",
          "data": {
            "text/plain": [
              "┏━━━━━━━━━━━━━━━━━━━━━━━━━━━━━━━━━┳━━━━━━━━━━━━━━━━━━━━━━━━┳━━━━━━━━━━━━━━━┓\n",
              "┃\u001b[1m \u001b[0m\u001b[1mLayer (type)                   \u001b[0m\u001b[1m \u001b[0m┃\u001b[1m \u001b[0m\u001b[1mOutput Shape          \u001b[0m\u001b[1m \u001b[0m┃\u001b[1m \u001b[0m\u001b[1m      Param #\u001b[0m\u001b[1m \u001b[0m┃\n",
              "┡━━━━━━━━━━━━━━━━━━━━━━━━━━━━━━━━━╇━━━━━━━━━━━━━━━━━━━━━━━━╇━━━━━━━━━━━━━━━┩\n",
              "│ conv2d_21 (\u001b[38;5;33mConv2D\u001b[0m)              │ (\u001b[38;5;45mNone\u001b[0m, \u001b[38;5;34m128\u001b[0m, \u001b[38;5;34m128\u001b[0m, \u001b[38;5;34m32\u001b[0m)   │           \u001b[38;5;34m896\u001b[0m │\n",
              "├─────────────────────────────────┼────────────────────────┼───────────────┤\n",
              "│ conv2d_22 (\u001b[38;5;33mConv2D\u001b[0m)              │ (\u001b[38;5;45mNone\u001b[0m, \u001b[38;5;34m126\u001b[0m, \u001b[38;5;34m126\u001b[0m, \u001b[38;5;34m32\u001b[0m)   │         \u001b[38;5;34m9,248\u001b[0m │\n",
              "├─────────────────────────────────┼────────────────────────┼───────────────┤\n",
              "│ max_pooling2d_9 (\u001b[38;5;33mMaxPooling2D\u001b[0m)  │ (\u001b[38;5;45mNone\u001b[0m, \u001b[38;5;34m63\u001b[0m, \u001b[38;5;34m63\u001b[0m, \u001b[38;5;34m32\u001b[0m)     │             \u001b[38;5;34m0\u001b[0m │\n",
              "├─────────────────────────────────┼────────────────────────┼───────────────┤\n",
              "│ conv2d_23 (\u001b[38;5;33mConv2D\u001b[0m)              │ (\u001b[38;5;45mNone\u001b[0m, \u001b[38;5;34m63\u001b[0m, \u001b[38;5;34m63\u001b[0m, \u001b[38;5;34m64\u001b[0m)     │        \u001b[38;5;34m18,496\u001b[0m │\n",
              "├─────────────────────────────────┼────────────────────────┼───────────────┤\n",
              "│ conv2d_24 (\u001b[38;5;33mConv2D\u001b[0m)              │ (\u001b[38;5;45mNone\u001b[0m, \u001b[38;5;34m61\u001b[0m, \u001b[38;5;34m61\u001b[0m, \u001b[38;5;34m64\u001b[0m)     │        \u001b[38;5;34m36,928\u001b[0m │\n",
              "├─────────────────────────────────┼────────────────────────┼───────────────┤\n",
              "│ max_pooling2d_10 (\u001b[38;5;33mMaxPooling2D\u001b[0m) │ (\u001b[38;5;45mNone\u001b[0m, \u001b[38;5;34m30\u001b[0m, \u001b[38;5;34m30\u001b[0m, \u001b[38;5;34m64\u001b[0m)     │             \u001b[38;5;34m0\u001b[0m │\n",
              "├─────────────────────────────────┼────────────────────────┼───────────────┤\n",
              "│ conv2d_25 (\u001b[38;5;33mConv2D\u001b[0m)              │ (\u001b[38;5;45mNone\u001b[0m, \u001b[38;5;34m30\u001b[0m, \u001b[38;5;34m30\u001b[0m, \u001b[38;5;34m128\u001b[0m)    │        \u001b[38;5;34m73,856\u001b[0m │\n",
              "├─────────────────────────────────┼────────────────────────┼───────────────┤\n",
              "│ conv2d_26 (\u001b[38;5;33mConv2D\u001b[0m)              │ (\u001b[38;5;45mNone\u001b[0m, \u001b[38;5;34m28\u001b[0m, \u001b[38;5;34m28\u001b[0m, \u001b[38;5;34m128\u001b[0m)    │       \u001b[38;5;34m147,584\u001b[0m │\n",
              "├─────────────────────────────────┼────────────────────────┼───────────────┤\n",
              "│ max_pooling2d_11 (\u001b[38;5;33mMaxPooling2D\u001b[0m) │ (\u001b[38;5;45mNone\u001b[0m, \u001b[38;5;34m14\u001b[0m, \u001b[38;5;34m14\u001b[0m, \u001b[38;5;34m128\u001b[0m)    │             \u001b[38;5;34m0\u001b[0m │\n",
              "├─────────────────────────────────┼────────────────────────┼───────────────┤\n",
              "│ conv2d_27 (\u001b[38;5;33mConv2D\u001b[0m)              │ (\u001b[38;5;45mNone\u001b[0m, \u001b[38;5;34m14\u001b[0m, \u001b[38;5;34m14\u001b[0m, \u001b[38;5;34m256\u001b[0m)    │       \u001b[38;5;34m295,168\u001b[0m │\n",
              "├─────────────────────────────────┼────────────────────────┼───────────────┤\n",
              "│ conv2d_28 (\u001b[38;5;33mConv2D\u001b[0m)              │ (\u001b[38;5;45mNone\u001b[0m, \u001b[38;5;34m12\u001b[0m, \u001b[38;5;34m12\u001b[0m, \u001b[38;5;34m256\u001b[0m)    │       \u001b[38;5;34m590,080\u001b[0m │\n",
              "├─────────────────────────────────┼────────────────────────┼───────────────┤\n",
              "│ max_pooling2d_12 (\u001b[38;5;33mMaxPooling2D\u001b[0m) │ (\u001b[38;5;45mNone\u001b[0m, \u001b[38;5;34m6\u001b[0m, \u001b[38;5;34m6\u001b[0m, \u001b[38;5;34m256\u001b[0m)      │             \u001b[38;5;34m0\u001b[0m │\n",
              "├─────────────────────────────────┼────────────────────────┼───────────────┤\n",
              "│ conv2d_29 (\u001b[38;5;33mConv2D\u001b[0m)              │ (\u001b[38;5;45mNone\u001b[0m, \u001b[38;5;34m6\u001b[0m, \u001b[38;5;34m6\u001b[0m, \u001b[38;5;34m512\u001b[0m)      │     \u001b[38;5;34m1,180,160\u001b[0m │\n",
              "├─────────────────────────────────┼────────────────────────┼───────────────┤\n",
              "│ conv2d_30 (\u001b[38;5;33mConv2D\u001b[0m)              │ (\u001b[38;5;45mNone\u001b[0m, \u001b[38;5;34m4\u001b[0m, \u001b[38;5;34m4\u001b[0m, \u001b[38;5;34m512\u001b[0m)      │     \u001b[38;5;34m2,359,808\u001b[0m │\n",
              "├─────────────────────────────────┼────────────────────────┼───────────────┤\n",
              "│ max_pooling2d_13 (\u001b[38;5;33mMaxPooling2D\u001b[0m) │ (\u001b[38;5;45mNone\u001b[0m, \u001b[38;5;34m2\u001b[0m, \u001b[38;5;34m2\u001b[0m, \u001b[38;5;34m512\u001b[0m)      │             \u001b[38;5;34m0\u001b[0m │\n",
              "├─────────────────────────────────┼────────────────────────┼───────────────┤\n",
              "│ dropout (\u001b[38;5;33mDropout\u001b[0m)               │ (\u001b[38;5;45mNone\u001b[0m, \u001b[38;5;34m2\u001b[0m, \u001b[38;5;34m2\u001b[0m, \u001b[38;5;34m512\u001b[0m)      │             \u001b[38;5;34m0\u001b[0m │\n",
              "├─────────────────────────────────┼────────────────────────┼───────────────┤\n",
              "│ flatten_2 (\u001b[38;5;33mFlatten\u001b[0m)             │ (\u001b[38;5;45mNone\u001b[0m, \u001b[38;5;34m2048\u001b[0m)           │             \u001b[38;5;34m0\u001b[0m │\n",
              "├─────────────────────────────────┼────────────────────────┼───────────────┤\n",
              "│ dense_4 (\u001b[38;5;33mDense\u001b[0m)                 │ (\u001b[38;5;45mNone\u001b[0m, \u001b[38;5;34m1500\u001b[0m)           │     \u001b[38;5;34m3,073,500\u001b[0m │\n",
              "├─────────────────────────────────┼────────────────────────┼───────────────┤\n",
              "│ dropout_1 (\u001b[38;5;33mDropout\u001b[0m)             │ (\u001b[38;5;45mNone\u001b[0m, \u001b[38;5;34m1500\u001b[0m)           │             \u001b[38;5;34m0\u001b[0m │\n",
              "├─────────────────────────────────┼────────────────────────┼───────────────┤\n",
              "│ dense_5 (\u001b[38;5;33mDense\u001b[0m)                 │ (\u001b[38;5;45mNone\u001b[0m, \u001b[38;5;34m38\u001b[0m)             │        \u001b[38;5;34m57,038\u001b[0m │\n",
              "└─────────────────────────────────┴────────────────────────┴───────────────┘\n"
            ],
            "text/html": [
              "<pre style=\"white-space:pre;overflow-x:auto;line-height:normal;font-family:Menlo,'DejaVu Sans Mono',consolas,'Courier New',monospace\">┏━━━━━━━━━━━━━━━━━━━━━━━━━━━━━━━━━┳━━━━━━━━━━━━━━━━━━━━━━━━┳━━━━━━━━━━━━━━━┓\n",
              "┃<span style=\"font-weight: bold\"> Layer (type)                    </span>┃<span style=\"font-weight: bold\"> Output Shape           </span>┃<span style=\"font-weight: bold\">       Param # </span>┃\n",
              "┡━━━━━━━━━━━━━━━━━━━━━━━━━━━━━━━━━╇━━━━━━━━━━━━━━━━━━━━━━━━╇━━━━━━━━━━━━━━━┩\n",
              "│ conv2d_21 (<span style=\"color: #0087ff; text-decoration-color: #0087ff\">Conv2D</span>)              │ (<span style=\"color: #00d7ff; text-decoration-color: #00d7ff\">None</span>, <span style=\"color: #00af00; text-decoration-color: #00af00\">128</span>, <span style=\"color: #00af00; text-decoration-color: #00af00\">128</span>, <span style=\"color: #00af00; text-decoration-color: #00af00\">32</span>)   │           <span style=\"color: #00af00; text-decoration-color: #00af00\">896</span> │\n",
              "├─────────────────────────────────┼────────────────────────┼───────────────┤\n",
              "│ conv2d_22 (<span style=\"color: #0087ff; text-decoration-color: #0087ff\">Conv2D</span>)              │ (<span style=\"color: #00d7ff; text-decoration-color: #00d7ff\">None</span>, <span style=\"color: #00af00; text-decoration-color: #00af00\">126</span>, <span style=\"color: #00af00; text-decoration-color: #00af00\">126</span>, <span style=\"color: #00af00; text-decoration-color: #00af00\">32</span>)   │         <span style=\"color: #00af00; text-decoration-color: #00af00\">9,248</span> │\n",
              "├─────────────────────────────────┼────────────────────────┼───────────────┤\n",
              "│ max_pooling2d_9 (<span style=\"color: #0087ff; text-decoration-color: #0087ff\">MaxPooling2D</span>)  │ (<span style=\"color: #00d7ff; text-decoration-color: #00d7ff\">None</span>, <span style=\"color: #00af00; text-decoration-color: #00af00\">63</span>, <span style=\"color: #00af00; text-decoration-color: #00af00\">63</span>, <span style=\"color: #00af00; text-decoration-color: #00af00\">32</span>)     │             <span style=\"color: #00af00; text-decoration-color: #00af00\">0</span> │\n",
              "├─────────────────────────────────┼────────────────────────┼───────────────┤\n",
              "│ conv2d_23 (<span style=\"color: #0087ff; text-decoration-color: #0087ff\">Conv2D</span>)              │ (<span style=\"color: #00d7ff; text-decoration-color: #00d7ff\">None</span>, <span style=\"color: #00af00; text-decoration-color: #00af00\">63</span>, <span style=\"color: #00af00; text-decoration-color: #00af00\">63</span>, <span style=\"color: #00af00; text-decoration-color: #00af00\">64</span>)     │        <span style=\"color: #00af00; text-decoration-color: #00af00\">18,496</span> │\n",
              "├─────────────────────────────────┼────────────────────────┼───────────────┤\n",
              "│ conv2d_24 (<span style=\"color: #0087ff; text-decoration-color: #0087ff\">Conv2D</span>)              │ (<span style=\"color: #00d7ff; text-decoration-color: #00d7ff\">None</span>, <span style=\"color: #00af00; text-decoration-color: #00af00\">61</span>, <span style=\"color: #00af00; text-decoration-color: #00af00\">61</span>, <span style=\"color: #00af00; text-decoration-color: #00af00\">64</span>)     │        <span style=\"color: #00af00; text-decoration-color: #00af00\">36,928</span> │\n",
              "├─────────────────────────────────┼────────────────────────┼───────────────┤\n",
              "│ max_pooling2d_10 (<span style=\"color: #0087ff; text-decoration-color: #0087ff\">MaxPooling2D</span>) │ (<span style=\"color: #00d7ff; text-decoration-color: #00d7ff\">None</span>, <span style=\"color: #00af00; text-decoration-color: #00af00\">30</span>, <span style=\"color: #00af00; text-decoration-color: #00af00\">30</span>, <span style=\"color: #00af00; text-decoration-color: #00af00\">64</span>)     │             <span style=\"color: #00af00; text-decoration-color: #00af00\">0</span> │\n",
              "├─────────────────────────────────┼────────────────────────┼───────────────┤\n",
              "│ conv2d_25 (<span style=\"color: #0087ff; text-decoration-color: #0087ff\">Conv2D</span>)              │ (<span style=\"color: #00d7ff; text-decoration-color: #00d7ff\">None</span>, <span style=\"color: #00af00; text-decoration-color: #00af00\">30</span>, <span style=\"color: #00af00; text-decoration-color: #00af00\">30</span>, <span style=\"color: #00af00; text-decoration-color: #00af00\">128</span>)    │        <span style=\"color: #00af00; text-decoration-color: #00af00\">73,856</span> │\n",
              "├─────────────────────────────────┼────────────────────────┼───────────────┤\n",
              "│ conv2d_26 (<span style=\"color: #0087ff; text-decoration-color: #0087ff\">Conv2D</span>)              │ (<span style=\"color: #00d7ff; text-decoration-color: #00d7ff\">None</span>, <span style=\"color: #00af00; text-decoration-color: #00af00\">28</span>, <span style=\"color: #00af00; text-decoration-color: #00af00\">28</span>, <span style=\"color: #00af00; text-decoration-color: #00af00\">128</span>)    │       <span style=\"color: #00af00; text-decoration-color: #00af00\">147,584</span> │\n",
              "├─────────────────────────────────┼────────────────────────┼───────────────┤\n",
              "│ max_pooling2d_11 (<span style=\"color: #0087ff; text-decoration-color: #0087ff\">MaxPooling2D</span>) │ (<span style=\"color: #00d7ff; text-decoration-color: #00d7ff\">None</span>, <span style=\"color: #00af00; text-decoration-color: #00af00\">14</span>, <span style=\"color: #00af00; text-decoration-color: #00af00\">14</span>, <span style=\"color: #00af00; text-decoration-color: #00af00\">128</span>)    │             <span style=\"color: #00af00; text-decoration-color: #00af00\">0</span> │\n",
              "├─────────────────────────────────┼────────────────────────┼───────────────┤\n",
              "│ conv2d_27 (<span style=\"color: #0087ff; text-decoration-color: #0087ff\">Conv2D</span>)              │ (<span style=\"color: #00d7ff; text-decoration-color: #00d7ff\">None</span>, <span style=\"color: #00af00; text-decoration-color: #00af00\">14</span>, <span style=\"color: #00af00; text-decoration-color: #00af00\">14</span>, <span style=\"color: #00af00; text-decoration-color: #00af00\">256</span>)    │       <span style=\"color: #00af00; text-decoration-color: #00af00\">295,168</span> │\n",
              "├─────────────────────────────────┼────────────────────────┼───────────────┤\n",
              "│ conv2d_28 (<span style=\"color: #0087ff; text-decoration-color: #0087ff\">Conv2D</span>)              │ (<span style=\"color: #00d7ff; text-decoration-color: #00d7ff\">None</span>, <span style=\"color: #00af00; text-decoration-color: #00af00\">12</span>, <span style=\"color: #00af00; text-decoration-color: #00af00\">12</span>, <span style=\"color: #00af00; text-decoration-color: #00af00\">256</span>)    │       <span style=\"color: #00af00; text-decoration-color: #00af00\">590,080</span> │\n",
              "├─────────────────────────────────┼────────────────────────┼───────────────┤\n",
              "│ max_pooling2d_12 (<span style=\"color: #0087ff; text-decoration-color: #0087ff\">MaxPooling2D</span>) │ (<span style=\"color: #00d7ff; text-decoration-color: #00d7ff\">None</span>, <span style=\"color: #00af00; text-decoration-color: #00af00\">6</span>, <span style=\"color: #00af00; text-decoration-color: #00af00\">6</span>, <span style=\"color: #00af00; text-decoration-color: #00af00\">256</span>)      │             <span style=\"color: #00af00; text-decoration-color: #00af00\">0</span> │\n",
              "├─────────────────────────────────┼────────────────────────┼───────────────┤\n",
              "│ conv2d_29 (<span style=\"color: #0087ff; text-decoration-color: #0087ff\">Conv2D</span>)              │ (<span style=\"color: #00d7ff; text-decoration-color: #00d7ff\">None</span>, <span style=\"color: #00af00; text-decoration-color: #00af00\">6</span>, <span style=\"color: #00af00; text-decoration-color: #00af00\">6</span>, <span style=\"color: #00af00; text-decoration-color: #00af00\">512</span>)      │     <span style=\"color: #00af00; text-decoration-color: #00af00\">1,180,160</span> │\n",
              "├─────────────────────────────────┼────────────────────────┼───────────────┤\n",
              "│ conv2d_30 (<span style=\"color: #0087ff; text-decoration-color: #0087ff\">Conv2D</span>)              │ (<span style=\"color: #00d7ff; text-decoration-color: #00d7ff\">None</span>, <span style=\"color: #00af00; text-decoration-color: #00af00\">4</span>, <span style=\"color: #00af00; text-decoration-color: #00af00\">4</span>, <span style=\"color: #00af00; text-decoration-color: #00af00\">512</span>)      │     <span style=\"color: #00af00; text-decoration-color: #00af00\">2,359,808</span> │\n",
              "├─────────────────────────────────┼────────────────────────┼───────────────┤\n",
              "│ max_pooling2d_13 (<span style=\"color: #0087ff; text-decoration-color: #0087ff\">MaxPooling2D</span>) │ (<span style=\"color: #00d7ff; text-decoration-color: #00d7ff\">None</span>, <span style=\"color: #00af00; text-decoration-color: #00af00\">2</span>, <span style=\"color: #00af00; text-decoration-color: #00af00\">2</span>, <span style=\"color: #00af00; text-decoration-color: #00af00\">512</span>)      │             <span style=\"color: #00af00; text-decoration-color: #00af00\">0</span> │\n",
              "├─────────────────────────────────┼────────────────────────┼───────────────┤\n",
              "│ dropout (<span style=\"color: #0087ff; text-decoration-color: #0087ff\">Dropout</span>)               │ (<span style=\"color: #00d7ff; text-decoration-color: #00d7ff\">None</span>, <span style=\"color: #00af00; text-decoration-color: #00af00\">2</span>, <span style=\"color: #00af00; text-decoration-color: #00af00\">2</span>, <span style=\"color: #00af00; text-decoration-color: #00af00\">512</span>)      │             <span style=\"color: #00af00; text-decoration-color: #00af00\">0</span> │\n",
              "├─────────────────────────────────┼────────────────────────┼───────────────┤\n",
              "│ flatten_2 (<span style=\"color: #0087ff; text-decoration-color: #0087ff\">Flatten</span>)             │ (<span style=\"color: #00d7ff; text-decoration-color: #00d7ff\">None</span>, <span style=\"color: #00af00; text-decoration-color: #00af00\">2048</span>)           │             <span style=\"color: #00af00; text-decoration-color: #00af00\">0</span> │\n",
              "├─────────────────────────────────┼────────────────────────┼───────────────┤\n",
              "│ dense_4 (<span style=\"color: #0087ff; text-decoration-color: #0087ff\">Dense</span>)                 │ (<span style=\"color: #00d7ff; text-decoration-color: #00d7ff\">None</span>, <span style=\"color: #00af00; text-decoration-color: #00af00\">1500</span>)           │     <span style=\"color: #00af00; text-decoration-color: #00af00\">3,073,500</span> │\n",
              "├─────────────────────────────────┼────────────────────────┼───────────────┤\n",
              "│ dropout_1 (<span style=\"color: #0087ff; text-decoration-color: #0087ff\">Dropout</span>)             │ (<span style=\"color: #00d7ff; text-decoration-color: #00d7ff\">None</span>, <span style=\"color: #00af00; text-decoration-color: #00af00\">1500</span>)           │             <span style=\"color: #00af00; text-decoration-color: #00af00\">0</span> │\n",
              "├─────────────────────────────────┼────────────────────────┼───────────────┤\n",
              "│ dense_5 (<span style=\"color: #0087ff; text-decoration-color: #0087ff\">Dense</span>)                 │ (<span style=\"color: #00d7ff; text-decoration-color: #00d7ff\">None</span>, <span style=\"color: #00af00; text-decoration-color: #00af00\">38</span>)             │        <span style=\"color: #00af00; text-decoration-color: #00af00\">57,038</span> │\n",
              "└─────────────────────────────────┴────────────────────────┴───────────────┘\n",
              "</pre>\n"
            ]
          },
          "metadata": {}
        },
        {
          "output_type": "display_data",
          "data": {
            "text/plain": [
              "\u001b[1m Total params: \u001b[0m\u001b[38;5;34m7,842,762\u001b[0m (29.92 MB)\n"
            ],
            "text/html": [
              "<pre style=\"white-space:pre;overflow-x:auto;line-height:normal;font-family:Menlo,'DejaVu Sans Mono',consolas,'Courier New',monospace\"><span style=\"font-weight: bold\"> Total params: </span><span style=\"color: #00af00; text-decoration-color: #00af00\">7,842,762</span> (29.92 MB)\n",
              "</pre>\n"
            ]
          },
          "metadata": {}
        },
        {
          "output_type": "display_data",
          "data": {
            "text/plain": [
              "\u001b[1m Trainable params: \u001b[0m\u001b[38;5;34m7,842,762\u001b[0m (29.92 MB)\n"
            ],
            "text/html": [
              "<pre style=\"white-space:pre;overflow-x:auto;line-height:normal;font-family:Menlo,'DejaVu Sans Mono',consolas,'Courier New',monospace\"><span style=\"font-weight: bold\"> Trainable params: </span><span style=\"color: #00af00; text-decoration-color: #00af00\">7,842,762</span> (29.92 MB)\n",
              "</pre>\n"
            ]
          },
          "metadata": {}
        },
        {
          "output_type": "display_data",
          "data": {
            "text/plain": [
              "\u001b[1m Non-trainable params: \u001b[0m\u001b[38;5;34m0\u001b[0m (0.00 B)\n"
            ],
            "text/html": [
              "<pre style=\"white-space:pre;overflow-x:auto;line-height:normal;font-family:Menlo,'DejaVu Sans Mono',consolas,'Courier New',monospace\"><span style=\"font-weight: bold\"> Non-trainable params: </span><span style=\"color: #00af00; text-decoration-color: #00af00\">0</span> (0.00 B)\n",
              "</pre>\n"
            ]
          },
          "metadata": {}
        }
      ]
    },
    {
      "cell_type": "markdown",
      "source": [
        "**Training model**"
      ],
      "metadata": {
        "id": "0_fQhah_pvCo"
      }
    },
    {
      "cell_type": "code",
      "source": [
        "training_history=model.fit(x=training_set,validation_data=validation_set,epochs=10)"
      ],
      "metadata": {
        "colab": {
          "base_uri": "https://localhost:8080/"
        },
        "id": "vO536cK0pxGn",
        "outputId": "725f0455-638b-4d9f-c8cd-67f03c5a8151"
      },
      "execution_count": null,
      "outputs": [
        {
          "output_type": "stream",
          "name": "stdout",
          "text": [
            "Epoch 1/10\n",
            "\u001b[1m2197/2197\u001b[0m \u001b[32m━━━━━━━━━━━━━━━━━━━━\u001b[0m\u001b[37m\u001b[0m \u001b[1m0s\u001b[0m 118ms/step - accuracy: 0.3802 - loss: 2.1853"
          ]
        }
      ]
    }
  ]
}