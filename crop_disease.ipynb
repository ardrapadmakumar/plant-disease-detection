{
  "nbformat": 4,
  "nbformat_minor": 0,
  "metadata": {
    "colab": {
      "provenance": [],
      "gpuType": "T4",
      "mount_file_id": "13oZ92i2eFQt6c-nKFrvONnKxYobbs8ux",
      "authorship_tag": "ABX9TyOhCl0ur7NED7CsR0S6BhbP",
      "include_colab_link": true
    },
    "kernelspec": {
      "name": "python3",
      "display_name": "Python 3"
    },
    "language_info": {
      "name": "python"
    },
    "accelerator": "GPU"
  },
  "cells": [
    {
      "cell_type": "markdown",
      "metadata": {
        "id": "view-in-github",
        "colab_type": "text"
      },
      "source": [
        "<a href=\"https://colab.research.google.com/github/ardrapadmakumar/plant-disease-detection/blob/main/crop_disease.ipynb\" target=\"_parent\"><img src=\"https://colab.research.google.com/assets/colab-badge.svg\" alt=\"Open In Colab\"/></a>"
      ]
    },
    {
      "cell_type": "markdown",
      "source": [
        "**Importing Libraries**"
      ],
      "metadata": {
        "id": "KMo3rg1U0SOr"
      }
    },
    {
      "cell_type": "code",
      "source": [
        "import tensorflow as tf\n",
        "import matplotlib.pyplot as plt\n",
        "import pandas as pd\n",
        "import seaborn as sns"
      ],
      "metadata": {
        "id": "Zo6T084I0Qe7"
      },
      "execution_count": 4,
      "outputs": []
    },
    {
      "cell_type": "markdown",
      "source": [
        "Unzipping dataset"
      ],
      "metadata": {
        "id": "PUF0fmuUOI88"
      }
    },
    {
      "cell_type": "code",
      "source": [
        "#import zipfile\n",
        "#import os\n",
        "\n",
        "# Path to your zip file in Google Drive\n",
        "#zip_path = \"/content/drive/MyDrive/dataset/crop_dataset/Crop_disease/crop_diesease/train.zip\"\n",
        "\n",
        "# Path to extract\n",
        "#extract_path = \"/content/drive/MyDrive/dataset/crop_dataset/Crop_disease/crop_diesease\"\n",
        "\n",
        "# Unzipping\n",
        "#with zipfile.ZipFile(zip_path, 'r') as zip_ref:\n",
        "#  zip_ref.extractall(extract_path)\n",
        "\n",
        "#print(\"Extraction completed!\")"
      ],
      "metadata": {
        "id": "046PsIBhONMc",
        "colab": {
          "base_uri": "https://localhost:8080/"
        },
        "outputId": "6ee7b855-42a7-466a-8e35-425697d3fb7d"
      },
      "execution_count": null,
      "outputs": [
        {
          "output_type": "stream",
          "name": "stdout",
          "text": [
            "Extraction completed!\n"
          ]
        }
      ]
    },
    {
      "cell_type": "markdown",
      "source": [
        "To find no of files:"
      ],
      "metadata": {
        "id": "gk5E5c8WCPjd"
      }
    },
    {
      "cell_type": "code",
      "source": [
        "import os\n",
        "\n",
        "train_dir = \"/content/drive/MyDrive/dataset/crop_dataset/Crop_disease/crop_diesease/train\"\n",
        "\n",
        "file_count = sum(len(files) for _, _, files in os.walk(train_dir))\n",
        "print(f\"Total files in train folder: {file_count}\")"
      ],
      "metadata": {
        "colab": {
          "base_uri": "https://localhost:8080/"
        },
        "id": "bl9-6DmyCS1x",
        "outputId": "80367932-a1ef-4697-c5a1-b72fb8551a64"
      },
      "execution_count": null,
      "outputs": [
        {
          "output_type": "stream",
          "name": "stdout",
          "text": [
            "Total files in train folder: 41484\n"
          ]
        }
      ]
    },
    {
      "cell_type": "markdown",
      "source": [
        "**Data Preprocessing**\n"
      ],
      "metadata": {
        "id": "H_yV8y6y1idM"
      }
    },
    {
      "cell_type": "markdown",
      "source": [
        "Train- Image Preprocessing"
      ],
      "metadata": {
        "id": "ckn1_Gd_2LlP"
      }
    },
    {
      "cell_type": "code",
      "source": [
        "training_set = tf.keras.utils.image_dataset_from_directory(\n",
        "    '/content/drive/MyDrive/dataset/crop_dataset/Crop_disease/crop_diesease/train',\n",
        "    labels=\"inferred\",\n",
        "    label_mode=\"categorical\",\n",
        "    class_names=None,\n",
        "    color_mode=\"rgb\",\n",
        "    batch_size=32,\n",
        "    image_size=(128, 128),\n",
        "    shuffle=True,\n",
        "    seed=None,\n",
        "    validation_split=None,\n",
        "    subset=None,\n",
        "    interpolation=\"bilinear\",\n",
        "    follow_links=False,\n",
        "    crop_to_aspect_ratio=False,\n",
        "    pad_to_aspect_ratio=False,\n",
        "    verbose=True,\n",
        ")"
      ],
      "metadata": {
        "id": "wz1J6_EC1pfj",
        "colab": {
          "base_uri": "https://localhost:8080/"
        },
        "outputId": "fcc73ce9-93ec-44bb-a213-9e97f7e8070a"
      },
      "execution_count": 5,
      "outputs": [
        {
          "output_type": "stream",
          "name": "stdout",
          "text": [
            "Found 41483 files belonging to 38 classes.\n"
          ]
        }
      ]
    },
    {
      "cell_type": "markdown",
      "source": [
        "Validation Image Processing"
      ],
      "metadata": {
        "id": "lUiLbK_ctyuL"
      }
    },
    {
      "cell_type": "code",
      "source": [
        "validation_set = tf.keras.utils.image_dataset_from_directory(\n",
        "    '/content/drive/MyDrive/dataset/crop_dataset/Crop_disease/crop_diesease/valid',\n",
        "    labels=\"inferred\",\n",
        "    label_mode=\"categorical\",\n",
        "    class_names=None,\n",
        "    color_mode=\"rgb\",\n",
        "    batch_size=32,\n",
        "    image_size=(128, 128),\n",
        "    shuffle=True,\n",
        "    seed=None,\n",
        "    validation_split=None,\n",
        "    subset=None,\n",
        "    interpolation=\"bilinear\",\n",
        "    follow_links=False,\n",
        "    crop_to_aspect_ratio=False,\n",
        "    pad_to_aspect_ratio=False,\n",
        "    verbose=True,\n",
        ")"
      ],
      "metadata": {
        "colab": {
          "base_uri": "https://localhost:8080/"
        },
        "id": "j3LbKKb7t8SH",
        "outputId": "a3b35b7f-e824-4285-9764-1d2c9adb273d"
      },
      "execution_count": 6,
      "outputs": [
        {
          "output_type": "stream",
          "name": "stdout",
          "text": [
            "Found 17572 files belonging to 38 classes.\n"
          ]
        }
      ]
    },
    {
      "cell_type": "code",
      "source": [
        "training_set"
      ],
      "metadata": {
        "colab": {
          "base_uri": "https://localhost:8080/"
        },
        "id": "OcaztiZChpod",
        "outputId": "752449e5-6421-4b29-c354-429567a7ff64"
      },
      "execution_count": 7,
      "outputs": [
        {
          "output_type": "execute_result",
          "data": {
            "text/plain": [
              "<_PrefetchDataset element_spec=(TensorSpec(shape=(None, 128, 128, 3), dtype=tf.float32, name=None), TensorSpec(shape=(None, 38), dtype=tf.float32, name=None))>"
            ]
          },
          "metadata": {},
          "execution_count": 7
        }
      ]
    },
    {
      "cell_type": "code",
      "source": [
        "for x,y in training_set:\n",
        "  print(x,x.shape)\n",
        "  print(y,y.shape)\n",
        "  break"
      ],
      "metadata": {
        "colab": {
          "base_uri": "https://localhost:8080/"
        },
        "id": "nUZu71R0htco",
        "outputId": "b23031e6-7b0e-4eaa-f8a7-fe26555dd095"
      },
      "execution_count": 8,
      "outputs": [
        {
          "output_type": "stream",
          "name": "stdout",
          "text": [
            "tf.Tensor(\n",
            "[[[[181.25 179.25 180.25]\n",
            "   [179.75 177.75 178.75]\n",
            "   [179.75 177.75 178.75]\n",
            "   ...\n",
            "   [192.25 190.25 191.25]\n",
            "   [197.   195.   196.  ]\n",
            "   [195.   193.   194.  ]]\n",
            "\n",
            "  [[186.75 184.75 185.75]\n",
            "   [181.25 179.25 180.25]\n",
            "   [181.25 179.25 180.25]\n",
            "   ...\n",
            "   [197.   195.   196.  ]\n",
            "   [193.75 191.75 192.75]\n",
            "   [193.   191.   192.  ]]\n",
            "\n",
            "  [[187.75 185.75 186.75]\n",
            "   [182.5  180.5  181.5 ]\n",
            "   [182.5  180.5  181.5 ]\n",
            "   ...\n",
            "   [197.5  195.5  196.5 ]\n",
            "   [193.   191.   192.  ]\n",
            "   [190.   188.   189.  ]]\n",
            "\n",
            "  ...\n",
            "\n",
            "  [[128.5  122.5  124.5 ]\n",
            "   [142.   136.   138.  ]\n",
            "   [131.75 125.75 127.75]\n",
            "   ...\n",
            "   [136.25 131.25 128.25]\n",
            "   [138.5  133.5  130.5 ]\n",
            "   [146.25 141.25 138.25]]\n",
            "\n",
            "  [[141.25 135.25 137.25]\n",
            "   [125.5  119.5  121.5 ]\n",
            "   [129.75 123.75 125.75]\n",
            "   ...\n",
            "   [144.75 139.75 136.75]\n",
            "   [144.5  139.5  136.5 ]\n",
            "   [135.75 130.75 127.75]]\n",
            "\n",
            "  [[135.   129.   131.  ]\n",
            "   [132.75 126.75 128.75]\n",
            "   [130.   124.   126.  ]\n",
            "   ...\n",
            "   [134.5  129.5  126.5 ]\n",
            "   [144.   139.   136.  ]\n",
            "   [144.   139.   136.  ]]]\n",
            "\n",
            "\n",
            " [[[151.25 149.25 163.25]\n",
            "   [159.5  157.5  171.5 ]\n",
            "   [157.   155.   169.  ]\n",
            "   ...\n",
            "   [116.5  113.5  130.5 ]\n",
            "   [119.   116.   135.  ]\n",
            "   [112.75 109.75 128.75]]\n",
            "\n",
            "  [[156.5  154.5  168.5 ]\n",
            "   [163.   161.   175.  ]\n",
            "   [160.   158.   172.  ]\n",
            "   ...\n",
            "   [111.75 108.75 125.75]\n",
            "   [126.25 123.25 142.25]\n",
            "   [105.   102.   121.  ]]\n",
            "\n",
            "  [[157.75 155.75 169.75]\n",
            "   [157.   155.   169.  ]\n",
            "   [157.25 155.25 169.25]\n",
            "   ...\n",
            "   [ 99.5   96.5  113.5 ]\n",
            "   [119.   116.   135.  ]\n",
            "   [109.5  106.5  125.5 ]]\n",
            "\n",
            "  ...\n",
            "\n",
            "  [[180.25 182.25 194.25]\n",
            "   [182.   184.   196.  ]\n",
            "   [183.5  185.5  197.5 ]\n",
            "   ...\n",
            "   [154.25 154.25 166.25]\n",
            "   [148.25 148.25 160.25]\n",
            "   [123.5  123.5  135.5 ]]\n",
            "\n",
            "  [[193.25 195.25 207.25]\n",
            "   [183.75 185.75 197.75]\n",
            "   [179.25 181.25 193.25]\n",
            "   ...\n",
            "   [122.5  124.5  136.5 ]\n",
            "   [156.75 158.75 170.75]\n",
            "   [139.75 141.75 153.75]]\n",
            "\n",
            "  [[194.75 196.75 208.75]\n",
            "   [189.75 191.75 203.75]\n",
            "   [183.   185.   197.  ]\n",
            "   ...\n",
            "   [124.25 126.25 138.25]\n",
            "   [155.75 157.75 169.  ]\n",
            "   [141.75 143.75 155.75]]]\n",
            "\n",
            "\n",
            " [[[181.25 179.25 182.25]\n",
            "   [179.5  177.5  180.5 ]\n",
            "   [184.5  182.5  185.5 ]\n",
            "   ...\n",
            "   [155.75 150.75 154.75]\n",
            "   [159.75 154.75 158.75]\n",
            "   [157.   152.   156.  ]]\n",
            "\n",
            "  [[181.25 179.25 182.25]\n",
            "   [184.5  182.5  185.5 ]\n",
            "   [186.5  184.5  187.5 ]\n",
            "   ...\n",
            "   [158.75 153.75 157.75]\n",
            "   [161.   156.   160.  ]\n",
            "   [165.75 160.75 164.75]]\n",
            "\n",
            "  [[182.75 180.75 183.75]\n",
            "   [175.5  173.5  176.5 ]\n",
            "   [180.25 178.25 181.25]\n",
            "   ...\n",
            "   [157.5  152.5  156.5 ]\n",
            "   [152.25 147.25 151.25]\n",
            "   [159.5  154.5  158.5 ]]\n",
            "\n",
            "  ...\n",
            "\n",
            "  [[112.25 103.25 106.25]\n",
            "   [121.75 112.75 115.75]\n",
            "   [124.5  115.5  118.5 ]\n",
            "   ...\n",
            "   [116.5  107.5  110.5 ]\n",
            "   [114.5  105.5  108.5 ]\n",
            "   [115.25 106.25 109.25]]\n",
            "\n",
            "  [[115.   106.   109.  ]\n",
            "   [108.75  99.75 102.75]\n",
            "   [123.5  114.5  117.5 ]\n",
            "   ...\n",
            "   [120.75 111.75 114.75]\n",
            "   [115.5  106.5  109.5 ]\n",
            "   [120.   111.   114.  ]]\n",
            "\n",
            "  [[114.25 105.25 108.25]\n",
            "   [117.25 108.25 111.25]\n",
            "   [122.75 113.75 116.75]\n",
            "   ...\n",
            "   [115.5  106.5  109.5 ]\n",
            "   [109.75 100.75 103.75]\n",
            "   [116.75 107.75 110.75]]]\n",
            "\n",
            "\n",
            " ...\n",
            "\n",
            "\n",
            " [[[112.5  101.5  115.5 ]\n",
            "   [116.   105.   119.  ]\n",
            "   [117.5  106.5  120.5 ]\n",
            "   ...\n",
            "   [151.25 148.25 167.25]\n",
            "   [148.5  145.5  164.5 ]\n",
            "   [150.25 147.25 166.25]]\n",
            "\n",
            "  [[120.   109.   123.  ]\n",
            "   [128.25 117.25 131.25]\n",
            "   [114.75 103.75 117.75]\n",
            "   ...\n",
            "   [127.5  124.5  143.5 ]\n",
            "   [138.   135.   154.  ]\n",
            "   [140.   137.   156.  ]]\n",
            "\n",
            "  [[121.5  110.5  124.5 ]\n",
            "   [121.25 110.25 124.25]\n",
            "   [118.25 107.25 121.25]\n",
            "   ...\n",
            "   [158.25 155.25 174.25]\n",
            "   [156.   153.   172.  ]\n",
            "   [162.   159.   178.  ]]\n",
            "\n",
            "  ...\n",
            "\n",
            "  [[124.25 111.25 120.25]\n",
            "   [111.75  98.75 107.75]\n",
            "   [119.5  106.5  115.5 ]\n",
            "   ...\n",
            "   [157.75 147.75 156.75]\n",
            "   [159.25 149.25 158.25]\n",
            "   [161.75 151.75 160.75]]\n",
            "\n",
            "  [[104.    91.   100.  ]\n",
            "   [120.5  107.5  116.5 ]\n",
            "   [126.   113.   122.  ]\n",
            "   ...\n",
            "   [156.25 146.25 155.25]\n",
            "   [159.   149.   158.  ]\n",
            "   [156.5  146.5  155.5 ]]\n",
            "\n",
            "  [[113.5  100.5  109.5 ]\n",
            "   [136.75 123.75 132.75]\n",
            "   [128.   115.   124.  ]\n",
            "   ...\n",
            "   [160.25 150.25 159.25]\n",
            "   [164.   154.   163.  ]\n",
            "   [154.75 144.75 153.75]]]\n",
            "\n",
            "\n",
            " [[[131.5  125.5  129.5 ]\n",
            "   [132.   126.   130.  ]\n",
            "   [136.   130.   134.  ]\n",
            "   ...\n",
            "   [144.5  139.5  136.5 ]\n",
            "   [141.75 136.75 133.75]\n",
            "   [137.   132.   129.  ]]\n",
            "\n",
            "  [[132.25 126.25 130.25]\n",
            "   [136.75 130.75 134.75]\n",
            "   [138.   132.   136.  ]\n",
            "   ...\n",
            "   [144.   139.   136.  ]\n",
            "   [143.25 138.25 135.25]\n",
            "   [140.75 135.75 132.75]]\n",
            "\n",
            "  [[139.25 133.25 137.25]\n",
            "   [144.25 138.25 142.25]\n",
            "   [140.   134.   138.  ]\n",
            "   ...\n",
            "   [144.5  139.5  136.5 ]\n",
            "   [144.   139.   136.  ]\n",
            "   [143.25 138.25 135.25]]\n",
            "\n",
            "  ...\n",
            "\n",
            "  [[ 96.25  99.25 104.25]\n",
            "   [ 97.25 100.25 105.25]\n",
            "   [ 95.5   98.5  103.5 ]\n",
            "   ...\n",
            "   [165.   165.   165.  ]\n",
            "   [161.75 161.75 161.75]\n",
            "   [163.25 163.25 163.25]]\n",
            "\n",
            "  [[ 97.   100.   105.  ]\n",
            "   [ 98.25 101.25 106.25]\n",
            "   [100.   103.   108.  ]\n",
            "   ...\n",
            "   [165.   165.   165.  ]\n",
            "   [162.5  162.5  162.5 ]\n",
            "   [163.   163.   163.  ]]\n",
            "\n",
            "  [[ 99.5  102.5  107.5 ]\n",
            "   [101.   104.   109.  ]\n",
            "   [105.5  108.5  113.5 ]\n",
            "   ...\n",
            "   [168.5  168.5  168.5 ]\n",
            "   [165.   165.   165.  ]\n",
            "   [163.5  163.5  163.5 ]]]\n",
            "\n",
            "\n",
            " [[[ 96.5   90.5   92.5 ]\n",
            "   [ 95.25  89.25  91.25]\n",
            "   [ 95.75  89.75  91.75]\n",
            "   ...\n",
            "   [ 67.75  66.75  72.75]\n",
            "   [ 73.25  72.25  78.25]\n",
            "   [ 64.75  63.75  69.75]]\n",
            "\n",
            "  [[106.   100.   102.  ]\n",
            "   [103.5   97.5   99.5 ]\n",
            "   [101.    95.    97.  ]\n",
            "   ...\n",
            "   [ 68.75  67.75  73.75]\n",
            "   [ 70.5   69.5   75.5 ]\n",
            "   [ 66.5   65.5   71.5 ]]\n",
            "\n",
            "  [[103.25  97.25  99.25]\n",
            "   [101.75  95.75  97.75]\n",
            "   [101.    95.    97.  ]\n",
            "   ...\n",
            "   [ 67.5   66.5   72.5 ]\n",
            "   [ 66.5   65.5   71.5 ]\n",
            "   [ 66.    65.    71.  ]]\n",
            "\n",
            "  ...\n",
            "\n",
            "  [[165.   163.   166.  ]\n",
            "   [167.5  165.5  168.5 ]\n",
            "   [166.25 164.25 167.25]\n",
            "   ...\n",
            "   [185.25 179.25 179.25]\n",
            "   [185.   179.   179.  ]\n",
            "   [185.   179.   179.  ]]\n",
            "\n",
            "  [[162.5  160.5  163.5 ]\n",
            "   [166.75 164.75 167.75]\n",
            "   [165.   163.   166.  ]\n",
            "   ...\n",
            "   [185.   179.   181.  ]\n",
            "   [185.25 179.25 181.25]\n",
            "   [183.25 177.25 179.25]]\n",
            "\n",
            "  [[160.25 158.25 161.25]\n",
            "   [167.   165.   168.  ]\n",
            "   [167.   165.   168.  ]\n",
            "   ...\n",
            "   [188.   182.   184.  ]\n",
            "   [186.   180.   182.  ]\n",
            "   [181.75 175.75 177.75]]]], shape=(32, 128, 128, 3), dtype=float32) (32, 128, 128, 3)\n",
            "tf.Tensor(\n",
            "[[0. 0. 0. ... 0. 0. 0.]\n",
            " [0. 0. 0. ... 0. 0. 0.]\n",
            " [0. 0. 0. ... 0. 0. 0.]\n",
            " ...\n",
            " [0. 0. 0. ... 0. 0. 0.]\n",
            " [0. 0. 0. ... 0. 0. 0.]\n",
            " [0. 0. 0. ... 0. 0. 0.]], shape=(32, 38), dtype=float32) (32, 38)\n"
          ]
        }
      ]
    },
    {
      "cell_type": "markdown",
      "source": [
        "**Building model**"
      ],
      "metadata": {
        "id": "btYNdJD8iIUI"
      }
    },
    {
      "cell_type": "code",
      "source": [
        "from tensorflow.keras.layers import Dense,Conv2D,MaxPool2D, Dropout\n",
        "from tensorflow.keras.models import Sequential"
      ],
      "metadata": {
        "id": "SeCtYan-iMFt"
      },
      "execution_count": 9,
      "outputs": []
    },
    {
      "cell_type": "code",
      "source": [
        "model=Sequential()"
      ],
      "metadata": {
        "id": "V2I-U6Bni8ra"
      },
      "execution_count": 10,
      "outputs": []
    },
    {
      "cell_type": "markdown",
      "source": [
        "Building Convolution Layer"
      ],
      "metadata": {
        "id": "lcQTqxTbjIQ8"
      }
    },
    {
      "cell_type": "code",
      "source": [
        "model.add(Conv2D(filters=32,kernel_size=3,padding='same',activation='relu',input_shape=[128,128,3]))\n",
        "model.add(Conv2D(filters=32,kernel_size=3,activation='relu'))\n",
        "model.add(MaxPool2D(pool_size=2,strides=2))"
      ],
      "metadata": {
        "colab": {
          "base_uri": "https://localhost:8080/"
        },
        "id": "k6wzggXOjC7Q",
        "outputId": "3753969e-799b-45b2-b08d-cddd77c0aa90"
      },
      "execution_count": 11,
      "outputs": [
        {
          "output_type": "stream",
          "name": "stderr",
          "text": [
            "/usr/local/lib/python3.12/dist-packages/keras/src/layers/convolutional/base_conv.py:113: UserWarning: Do not pass an `input_shape`/`input_dim` argument to a layer. When using Sequential models, prefer using an `Input(shape)` object as the first layer in the model instead.\n",
            "  super().__init__(activity_regularizer=activity_regularizer, **kwargs)\n"
          ]
        }
      ]
    },
    {
      "cell_type": "code",
      "source": [
        "model.add(Conv2D(filters=64,kernel_size=3,padding='same',activation='relu',input_shape=[128,128,3]))\n",
        "model.add(Conv2D(filters=64,kernel_size=3,activation='relu'))\n",
        "model.add(MaxPool2D(pool_size=2,strides=2))"
      ],
      "metadata": {
        "id": "EpI3RWxyke6-"
      },
      "execution_count": 12,
      "outputs": []
    },
    {
      "cell_type": "code",
      "source": [
        "model.add(Conv2D(filters=128,kernel_size=3,padding='same',activation='relu'))\n",
        "model.add(Conv2D(filters=128,kernel_size=3,activation='relu'))\n",
        "model.add(MaxPool2D(pool_size=2,strides=2))"
      ],
      "metadata": {
        "id": "e5KjTuhBkmGN"
      },
      "execution_count": 13,
      "outputs": []
    },
    {
      "cell_type": "code",
      "source": [
        "model.add(Conv2D(filters=256,kernel_size=3,padding='same',activation='relu'))\n",
        "model.add(Conv2D(filters=256,kernel_size=3,activation='relu'))\n",
        "model.add(MaxPool2D(pool_size=2,strides=2))"
      ],
      "metadata": {
        "id": "KiQlIOZckqfC"
      },
      "execution_count": 14,
      "outputs": []
    },
    {
      "cell_type": "code",
      "source": [
        "model.add(Conv2D(filters=512,kernel_size=3,padding='same',activation='relu'))\n",
        "model.add(Conv2D(filters=512,kernel_size=3,activation='relu'))\n",
        "model.add(MaxPool2D(pool_size=2,strides=2))"
      ],
      "metadata": {
        "id": "zOzoPesFsuY3"
      },
      "execution_count": 15,
      "outputs": []
    },
    {
      "cell_type": "code",
      "source": [
        "model.add(Dropout(0.25)) #To avoid overfitting"
      ],
      "metadata": {
        "id": "f4He3BKatvKi"
      },
      "execution_count": 16,
      "outputs": []
    },
    {
      "cell_type": "code",
      "source": [
        "model.add(tf.keras.layers.Flatten())"
      ],
      "metadata": {
        "id": "ZPCfBYqgk03s"
      },
      "execution_count": 17,
      "outputs": []
    },
    {
      "cell_type": "code",
      "source": [
        "model.add(Dense(units=1500,activation='relu'))"
      ],
      "metadata": {
        "id": "wJ5uf5Kqk76R"
      },
      "execution_count": 18,
      "outputs": []
    },
    {
      "cell_type": "code",
      "source": [
        "model.add(Dropout(0.4))"
      ],
      "metadata": {
        "id": "IpJ-kiYuuIjm"
      },
      "execution_count": 19,
      "outputs": []
    },
    {
      "cell_type": "markdown",
      "source": [
        "**Output Layer**"
      ],
      "metadata": {
        "id": "1yjDyO0zlIf1"
      }
    },
    {
      "cell_type": "code",
      "source": [
        "model.add(Dense(units=38,activation='softmax'))"
      ],
      "metadata": {
        "id": "XMLJjBXflMZn"
      },
      "execution_count": 20,
      "outputs": []
    },
    {
      "cell_type": "markdown",
      "source": [
        "**Compiling model**"
      ],
      "metadata": {
        "id": "wJXOOVRMlizb"
      }
    },
    {
      "cell_type": "code",
      "source": [
        "model.compile(optimizer=tf.keras.optimizers.Adam(\n",
        "    learning_rate=0.0001),loss='categorical_crossentropy',metrics=['accuracy'])"
      ],
      "metadata": {
        "id": "4KcES1iHloLI"
      },
      "execution_count": 21,
      "outputs": []
    },
    {
      "cell_type": "code",
      "source": [
        "model.summary()"
      ],
      "metadata": {
        "colab": {
          "base_uri": "https://localhost:8080/",
          "height": 769
        },
        "id": "Z1YGIuOkl_Xd",
        "outputId": "bb7b2f2d-f0e1-4060-c669-77632d163741"
      },
      "execution_count": 22,
      "outputs": [
        {
          "output_type": "display_data",
          "data": {
            "text/plain": [
              "\u001b[1mModel: \"sequential\"\u001b[0m\n"
            ],
            "text/html": [
              "<pre style=\"white-space:pre;overflow-x:auto;line-height:normal;font-family:Menlo,'DejaVu Sans Mono',consolas,'Courier New',monospace\"><span style=\"font-weight: bold\">Model: \"sequential\"</span>\n",
              "</pre>\n"
            ]
          },
          "metadata": {}
        },
        {
          "output_type": "display_data",
          "data": {
            "text/plain": [
              "┏━━━━━━━━━━━━━━━━━━━━━━━━━━━━━━━━━┳━━━━━━━━━━━━━━━━━━━━━━━━┳━━━━━━━━━━━━━━━┓\n",
              "┃\u001b[1m \u001b[0m\u001b[1mLayer (type)                   \u001b[0m\u001b[1m \u001b[0m┃\u001b[1m \u001b[0m\u001b[1mOutput Shape          \u001b[0m\u001b[1m \u001b[0m┃\u001b[1m \u001b[0m\u001b[1m      Param #\u001b[0m\u001b[1m \u001b[0m┃\n",
              "┡━━━━━━━━━━━━━━━━━━━━━━━━━━━━━━━━━╇━━━━━━━━━━━━━━━━━━━━━━━━╇━━━━━━━━━━━━━━━┩\n",
              "│ conv2d (\u001b[38;5;33mConv2D\u001b[0m)                 │ (\u001b[38;5;45mNone\u001b[0m, \u001b[38;5;34m128\u001b[0m, \u001b[38;5;34m128\u001b[0m, \u001b[38;5;34m32\u001b[0m)   │           \u001b[38;5;34m896\u001b[0m │\n",
              "├─────────────────────────────────┼────────────────────────┼───────────────┤\n",
              "│ conv2d_1 (\u001b[38;5;33mConv2D\u001b[0m)               │ (\u001b[38;5;45mNone\u001b[0m, \u001b[38;5;34m126\u001b[0m, \u001b[38;5;34m126\u001b[0m, \u001b[38;5;34m32\u001b[0m)   │         \u001b[38;5;34m9,248\u001b[0m │\n",
              "├─────────────────────────────────┼────────────────────────┼───────────────┤\n",
              "│ max_pooling2d (\u001b[38;5;33mMaxPooling2D\u001b[0m)    │ (\u001b[38;5;45mNone\u001b[0m, \u001b[38;5;34m63\u001b[0m, \u001b[38;5;34m63\u001b[0m, \u001b[38;5;34m32\u001b[0m)     │             \u001b[38;5;34m0\u001b[0m │\n",
              "├─────────────────────────────────┼────────────────────────┼───────────────┤\n",
              "│ conv2d_2 (\u001b[38;5;33mConv2D\u001b[0m)               │ (\u001b[38;5;45mNone\u001b[0m, \u001b[38;5;34m63\u001b[0m, \u001b[38;5;34m63\u001b[0m, \u001b[38;5;34m64\u001b[0m)     │        \u001b[38;5;34m18,496\u001b[0m │\n",
              "├─────────────────────────────────┼────────────────────────┼───────────────┤\n",
              "│ conv2d_3 (\u001b[38;5;33mConv2D\u001b[0m)               │ (\u001b[38;5;45mNone\u001b[0m, \u001b[38;5;34m61\u001b[0m, \u001b[38;5;34m61\u001b[0m, \u001b[38;5;34m64\u001b[0m)     │        \u001b[38;5;34m36,928\u001b[0m │\n",
              "├─────────────────────────────────┼────────────────────────┼───────────────┤\n",
              "│ max_pooling2d_1 (\u001b[38;5;33mMaxPooling2D\u001b[0m)  │ (\u001b[38;5;45mNone\u001b[0m, \u001b[38;5;34m30\u001b[0m, \u001b[38;5;34m30\u001b[0m, \u001b[38;5;34m64\u001b[0m)     │             \u001b[38;5;34m0\u001b[0m │\n",
              "├─────────────────────────────────┼────────────────────────┼───────────────┤\n",
              "│ conv2d_4 (\u001b[38;5;33mConv2D\u001b[0m)               │ (\u001b[38;5;45mNone\u001b[0m, \u001b[38;5;34m30\u001b[0m, \u001b[38;5;34m30\u001b[0m, \u001b[38;5;34m128\u001b[0m)    │        \u001b[38;5;34m73,856\u001b[0m │\n",
              "├─────────────────────────────────┼────────────────────────┼───────────────┤\n",
              "│ conv2d_5 (\u001b[38;5;33mConv2D\u001b[0m)               │ (\u001b[38;5;45mNone\u001b[0m, \u001b[38;5;34m28\u001b[0m, \u001b[38;5;34m28\u001b[0m, \u001b[38;5;34m128\u001b[0m)    │       \u001b[38;5;34m147,584\u001b[0m │\n",
              "├─────────────────────────────────┼────────────────────────┼───────────────┤\n",
              "│ max_pooling2d_2 (\u001b[38;5;33mMaxPooling2D\u001b[0m)  │ (\u001b[38;5;45mNone\u001b[0m, \u001b[38;5;34m14\u001b[0m, \u001b[38;5;34m14\u001b[0m, \u001b[38;5;34m128\u001b[0m)    │             \u001b[38;5;34m0\u001b[0m │\n",
              "├─────────────────────────────────┼────────────────────────┼───────────────┤\n",
              "│ conv2d_6 (\u001b[38;5;33mConv2D\u001b[0m)               │ (\u001b[38;5;45mNone\u001b[0m, \u001b[38;5;34m14\u001b[0m, \u001b[38;5;34m14\u001b[0m, \u001b[38;5;34m256\u001b[0m)    │       \u001b[38;5;34m295,168\u001b[0m │\n",
              "├─────────────────────────────────┼────────────────────────┼───────────────┤\n",
              "│ conv2d_7 (\u001b[38;5;33mConv2D\u001b[0m)               │ (\u001b[38;5;45mNone\u001b[0m, \u001b[38;5;34m12\u001b[0m, \u001b[38;5;34m12\u001b[0m, \u001b[38;5;34m256\u001b[0m)    │       \u001b[38;5;34m590,080\u001b[0m │\n",
              "├─────────────────────────────────┼────────────────────────┼───────────────┤\n",
              "│ max_pooling2d_3 (\u001b[38;5;33mMaxPooling2D\u001b[0m)  │ (\u001b[38;5;45mNone\u001b[0m, \u001b[38;5;34m6\u001b[0m, \u001b[38;5;34m6\u001b[0m, \u001b[38;5;34m256\u001b[0m)      │             \u001b[38;5;34m0\u001b[0m │\n",
              "├─────────────────────────────────┼────────────────────────┼───────────────┤\n",
              "│ conv2d_8 (\u001b[38;5;33mConv2D\u001b[0m)               │ (\u001b[38;5;45mNone\u001b[0m, \u001b[38;5;34m6\u001b[0m, \u001b[38;5;34m6\u001b[0m, \u001b[38;5;34m512\u001b[0m)      │     \u001b[38;5;34m1,180,160\u001b[0m │\n",
              "├─────────────────────────────────┼────────────────────────┼───────────────┤\n",
              "│ conv2d_9 (\u001b[38;5;33mConv2D\u001b[0m)               │ (\u001b[38;5;45mNone\u001b[0m, \u001b[38;5;34m4\u001b[0m, \u001b[38;5;34m4\u001b[0m, \u001b[38;5;34m512\u001b[0m)      │     \u001b[38;5;34m2,359,808\u001b[0m │\n",
              "├─────────────────────────────────┼────────────────────────┼───────────────┤\n",
              "│ max_pooling2d_4 (\u001b[38;5;33mMaxPooling2D\u001b[0m)  │ (\u001b[38;5;45mNone\u001b[0m, \u001b[38;5;34m2\u001b[0m, \u001b[38;5;34m2\u001b[0m, \u001b[38;5;34m512\u001b[0m)      │             \u001b[38;5;34m0\u001b[0m │\n",
              "├─────────────────────────────────┼────────────────────────┼───────────────┤\n",
              "│ dropout (\u001b[38;5;33mDropout\u001b[0m)               │ (\u001b[38;5;45mNone\u001b[0m, \u001b[38;5;34m2\u001b[0m, \u001b[38;5;34m2\u001b[0m, \u001b[38;5;34m512\u001b[0m)      │             \u001b[38;5;34m0\u001b[0m │\n",
              "├─────────────────────────────────┼────────────────────────┼───────────────┤\n",
              "│ flatten (\u001b[38;5;33mFlatten\u001b[0m)               │ (\u001b[38;5;45mNone\u001b[0m, \u001b[38;5;34m2048\u001b[0m)           │             \u001b[38;5;34m0\u001b[0m │\n",
              "├─────────────────────────────────┼────────────────────────┼───────────────┤\n",
              "│ dense (\u001b[38;5;33mDense\u001b[0m)                   │ (\u001b[38;5;45mNone\u001b[0m, \u001b[38;5;34m1500\u001b[0m)           │     \u001b[38;5;34m3,073,500\u001b[0m │\n",
              "├─────────────────────────────────┼────────────────────────┼───────────────┤\n",
              "│ dropout_1 (\u001b[38;5;33mDropout\u001b[0m)             │ (\u001b[38;5;45mNone\u001b[0m, \u001b[38;5;34m1500\u001b[0m)           │             \u001b[38;5;34m0\u001b[0m │\n",
              "├─────────────────────────────────┼────────────────────────┼───────────────┤\n",
              "│ dense_1 (\u001b[38;5;33mDense\u001b[0m)                 │ (\u001b[38;5;45mNone\u001b[0m, \u001b[38;5;34m38\u001b[0m)             │        \u001b[38;5;34m57,038\u001b[0m │\n",
              "└─────────────────────────────────┴────────────────────────┴───────────────┘\n"
            ],
            "text/html": [
              "<pre style=\"white-space:pre;overflow-x:auto;line-height:normal;font-family:Menlo,'DejaVu Sans Mono',consolas,'Courier New',monospace\">┏━━━━━━━━━━━━━━━━━━━━━━━━━━━━━━━━━┳━━━━━━━━━━━━━━━━━━━━━━━━┳━━━━━━━━━━━━━━━┓\n",
              "┃<span style=\"font-weight: bold\"> Layer (type)                    </span>┃<span style=\"font-weight: bold\"> Output Shape           </span>┃<span style=\"font-weight: bold\">       Param # </span>┃\n",
              "┡━━━━━━━━━━━━━━━━━━━━━━━━━━━━━━━━━╇━━━━━━━━━━━━━━━━━━━━━━━━╇━━━━━━━━━━━━━━━┩\n",
              "│ conv2d (<span style=\"color: #0087ff; text-decoration-color: #0087ff\">Conv2D</span>)                 │ (<span style=\"color: #00d7ff; text-decoration-color: #00d7ff\">None</span>, <span style=\"color: #00af00; text-decoration-color: #00af00\">128</span>, <span style=\"color: #00af00; text-decoration-color: #00af00\">128</span>, <span style=\"color: #00af00; text-decoration-color: #00af00\">32</span>)   │           <span style=\"color: #00af00; text-decoration-color: #00af00\">896</span> │\n",
              "├─────────────────────────────────┼────────────────────────┼───────────────┤\n",
              "│ conv2d_1 (<span style=\"color: #0087ff; text-decoration-color: #0087ff\">Conv2D</span>)               │ (<span style=\"color: #00d7ff; text-decoration-color: #00d7ff\">None</span>, <span style=\"color: #00af00; text-decoration-color: #00af00\">126</span>, <span style=\"color: #00af00; text-decoration-color: #00af00\">126</span>, <span style=\"color: #00af00; text-decoration-color: #00af00\">32</span>)   │         <span style=\"color: #00af00; text-decoration-color: #00af00\">9,248</span> │\n",
              "├─────────────────────────────────┼────────────────────────┼───────────────┤\n",
              "│ max_pooling2d (<span style=\"color: #0087ff; text-decoration-color: #0087ff\">MaxPooling2D</span>)    │ (<span style=\"color: #00d7ff; text-decoration-color: #00d7ff\">None</span>, <span style=\"color: #00af00; text-decoration-color: #00af00\">63</span>, <span style=\"color: #00af00; text-decoration-color: #00af00\">63</span>, <span style=\"color: #00af00; text-decoration-color: #00af00\">32</span>)     │             <span style=\"color: #00af00; text-decoration-color: #00af00\">0</span> │\n",
              "├─────────────────────────────────┼────────────────────────┼───────────────┤\n",
              "│ conv2d_2 (<span style=\"color: #0087ff; text-decoration-color: #0087ff\">Conv2D</span>)               │ (<span style=\"color: #00d7ff; text-decoration-color: #00d7ff\">None</span>, <span style=\"color: #00af00; text-decoration-color: #00af00\">63</span>, <span style=\"color: #00af00; text-decoration-color: #00af00\">63</span>, <span style=\"color: #00af00; text-decoration-color: #00af00\">64</span>)     │        <span style=\"color: #00af00; text-decoration-color: #00af00\">18,496</span> │\n",
              "├─────────────────────────────────┼────────────────────────┼───────────────┤\n",
              "│ conv2d_3 (<span style=\"color: #0087ff; text-decoration-color: #0087ff\">Conv2D</span>)               │ (<span style=\"color: #00d7ff; text-decoration-color: #00d7ff\">None</span>, <span style=\"color: #00af00; text-decoration-color: #00af00\">61</span>, <span style=\"color: #00af00; text-decoration-color: #00af00\">61</span>, <span style=\"color: #00af00; text-decoration-color: #00af00\">64</span>)     │        <span style=\"color: #00af00; text-decoration-color: #00af00\">36,928</span> │\n",
              "├─────────────────────────────────┼────────────────────────┼───────────────┤\n",
              "│ max_pooling2d_1 (<span style=\"color: #0087ff; text-decoration-color: #0087ff\">MaxPooling2D</span>)  │ (<span style=\"color: #00d7ff; text-decoration-color: #00d7ff\">None</span>, <span style=\"color: #00af00; text-decoration-color: #00af00\">30</span>, <span style=\"color: #00af00; text-decoration-color: #00af00\">30</span>, <span style=\"color: #00af00; text-decoration-color: #00af00\">64</span>)     │             <span style=\"color: #00af00; text-decoration-color: #00af00\">0</span> │\n",
              "├─────────────────────────────────┼────────────────────────┼───────────────┤\n",
              "│ conv2d_4 (<span style=\"color: #0087ff; text-decoration-color: #0087ff\">Conv2D</span>)               │ (<span style=\"color: #00d7ff; text-decoration-color: #00d7ff\">None</span>, <span style=\"color: #00af00; text-decoration-color: #00af00\">30</span>, <span style=\"color: #00af00; text-decoration-color: #00af00\">30</span>, <span style=\"color: #00af00; text-decoration-color: #00af00\">128</span>)    │        <span style=\"color: #00af00; text-decoration-color: #00af00\">73,856</span> │\n",
              "├─────────────────────────────────┼────────────────────────┼───────────────┤\n",
              "│ conv2d_5 (<span style=\"color: #0087ff; text-decoration-color: #0087ff\">Conv2D</span>)               │ (<span style=\"color: #00d7ff; text-decoration-color: #00d7ff\">None</span>, <span style=\"color: #00af00; text-decoration-color: #00af00\">28</span>, <span style=\"color: #00af00; text-decoration-color: #00af00\">28</span>, <span style=\"color: #00af00; text-decoration-color: #00af00\">128</span>)    │       <span style=\"color: #00af00; text-decoration-color: #00af00\">147,584</span> │\n",
              "├─────────────────────────────────┼────────────────────────┼───────────────┤\n",
              "│ max_pooling2d_2 (<span style=\"color: #0087ff; text-decoration-color: #0087ff\">MaxPooling2D</span>)  │ (<span style=\"color: #00d7ff; text-decoration-color: #00d7ff\">None</span>, <span style=\"color: #00af00; text-decoration-color: #00af00\">14</span>, <span style=\"color: #00af00; text-decoration-color: #00af00\">14</span>, <span style=\"color: #00af00; text-decoration-color: #00af00\">128</span>)    │             <span style=\"color: #00af00; text-decoration-color: #00af00\">0</span> │\n",
              "├─────────────────────────────────┼────────────────────────┼───────────────┤\n",
              "│ conv2d_6 (<span style=\"color: #0087ff; text-decoration-color: #0087ff\">Conv2D</span>)               │ (<span style=\"color: #00d7ff; text-decoration-color: #00d7ff\">None</span>, <span style=\"color: #00af00; text-decoration-color: #00af00\">14</span>, <span style=\"color: #00af00; text-decoration-color: #00af00\">14</span>, <span style=\"color: #00af00; text-decoration-color: #00af00\">256</span>)    │       <span style=\"color: #00af00; text-decoration-color: #00af00\">295,168</span> │\n",
              "├─────────────────────────────────┼────────────────────────┼───────────────┤\n",
              "│ conv2d_7 (<span style=\"color: #0087ff; text-decoration-color: #0087ff\">Conv2D</span>)               │ (<span style=\"color: #00d7ff; text-decoration-color: #00d7ff\">None</span>, <span style=\"color: #00af00; text-decoration-color: #00af00\">12</span>, <span style=\"color: #00af00; text-decoration-color: #00af00\">12</span>, <span style=\"color: #00af00; text-decoration-color: #00af00\">256</span>)    │       <span style=\"color: #00af00; text-decoration-color: #00af00\">590,080</span> │\n",
              "├─────────────────────────────────┼────────────────────────┼───────────────┤\n",
              "│ max_pooling2d_3 (<span style=\"color: #0087ff; text-decoration-color: #0087ff\">MaxPooling2D</span>)  │ (<span style=\"color: #00d7ff; text-decoration-color: #00d7ff\">None</span>, <span style=\"color: #00af00; text-decoration-color: #00af00\">6</span>, <span style=\"color: #00af00; text-decoration-color: #00af00\">6</span>, <span style=\"color: #00af00; text-decoration-color: #00af00\">256</span>)      │             <span style=\"color: #00af00; text-decoration-color: #00af00\">0</span> │\n",
              "├─────────────────────────────────┼────────────────────────┼───────────────┤\n",
              "│ conv2d_8 (<span style=\"color: #0087ff; text-decoration-color: #0087ff\">Conv2D</span>)               │ (<span style=\"color: #00d7ff; text-decoration-color: #00d7ff\">None</span>, <span style=\"color: #00af00; text-decoration-color: #00af00\">6</span>, <span style=\"color: #00af00; text-decoration-color: #00af00\">6</span>, <span style=\"color: #00af00; text-decoration-color: #00af00\">512</span>)      │     <span style=\"color: #00af00; text-decoration-color: #00af00\">1,180,160</span> │\n",
              "├─────────────────────────────────┼────────────────────────┼───────────────┤\n",
              "│ conv2d_9 (<span style=\"color: #0087ff; text-decoration-color: #0087ff\">Conv2D</span>)               │ (<span style=\"color: #00d7ff; text-decoration-color: #00d7ff\">None</span>, <span style=\"color: #00af00; text-decoration-color: #00af00\">4</span>, <span style=\"color: #00af00; text-decoration-color: #00af00\">4</span>, <span style=\"color: #00af00; text-decoration-color: #00af00\">512</span>)      │     <span style=\"color: #00af00; text-decoration-color: #00af00\">2,359,808</span> │\n",
              "├─────────────────────────────────┼────────────────────────┼───────────────┤\n",
              "│ max_pooling2d_4 (<span style=\"color: #0087ff; text-decoration-color: #0087ff\">MaxPooling2D</span>)  │ (<span style=\"color: #00d7ff; text-decoration-color: #00d7ff\">None</span>, <span style=\"color: #00af00; text-decoration-color: #00af00\">2</span>, <span style=\"color: #00af00; text-decoration-color: #00af00\">2</span>, <span style=\"color: #00af00; text-decoration-color: #00af00\">512</span>)      │             <span style=\"color: #00af00; text-decoration-color: #00af00\">0</span> │\n",
              "├─────────────────────────────────┼────────────────────────┼───────────────┤\n",
              "│ dropout (<span style=\"color: #0087ff; text-decoration-color: #0087ff\">Dropout</span>)               │ (<span style=\"color: #00d7ff; text-decoration-color: #00d7ff\">None</span>, <span style=\"color: #00af00; text-decoration-color: #00af00\">2</span>, <span style=\"color: #00af00; text-decoration-color: #00af00\">2</span>, <span style=\"color: #00af00; text-decoration-color: #00af00\">512</span>)      │             <span style=\"color: #00af00; text-decoration-color: #00af00\">0</span> │\n",
              "├─────────────────────────────────┼────────────────────────┼───────────────┤\n",
              "│ flatten (<span style=\"color: #0087ff; text-decoration-color: #0087ff\">Flatten</span>)               │ (<span style=\"color: #00d7ff; text-decoration-color: #00d7ff\">None</span>, <span style=\"color: #00af00; text-decoration-color: #00af00\">2048</span>)           │             <span style=\"color: #00af00; text-decoration-color: #00af00\">0</span> │\n",
              "├─────────────────────────────────┼────────────────────────┼───────────────┤\n",
              "│ dense (<span style=\"color: #0087ff; text-decoration-color: #0087ff\">Dense</span>)                   │ (<span style=\"color: #00d7ff; text-decoration-color: #00d7ff\">None</span>, <span style=\"color: #00af00; text-decoration-color: #00af00\">1500</span>)           │     <span style=\"color: #00af00; text-decoration-color: #00af00\">3,073,500</span> │\n",
              "├─────────────────────────────────┼────────────────────────┼───────────────┤\n",
              "│ dropout_1 (<span style=\"color: #0087ff; text-decoration-color: #0087ff\">Dropout</span>)             │ (<span style=\"color: #00d7ff; text-decoration-color: #00d7ff\">None</span>, <span style=\"color: #00af00; text-decoration-color: #00af00\">1500</span>)           │             <span style=\"color: #00af00; text-decoration-color: #00af00\">0</span> │\n",
              "├─────────────────────────────────┼────────────────────────┼───────────────┤\n",
              "│ dense_1 (<span style=\"color: #0087ff; text-decoration-color: #0087ff\">Dense</span>)                 │ (<span style=\"color: #00d7ff; text-decoration-color: #00d7ff\">None</span>, <span style=\"color: #00af00; text-decoration-color: #00af00\">38</span>)             │        <span style=\"color: #00af00; text-decoration-color: #00af00\">57,038</span> │\n",
              "└─────────────────────────────────┴────────────────────────┴───────────────┘\n",
              "</pre>\n"
            ]
          },
          "metadata": {}
        },
        {
          "output_type": "display_data",
          "data": {
            "text/plain": [
              "\u001b[1m Total params: \u001b[0m\u001b[38;5;34m7,842,762\u001b[0m (29.92 MB)\n"
            ],
            "text/html": [
              "<pre style=\"white-space:pre;overflow-x:auto;line-height:normal;font-family:Menlo,'DejaVu Sans Mono',consolas,'Courier New',monospace\"><span style=\"font-weight: bold\"> Total params: </span><span style=\"color: #00af00; text-decoration-color: #00af00\">7,842,762</span> (29.92 MB)\n",
              "</pre>\n"
            ]
          },
          "metadata": {}
        },
        {
          "output_type": "display_data",
          "data": {
            "text/plain": [
              "\u001b[1m Trainable params: \u001b[0m\u001b[38;5;34m7,842,762\u001b[0m (29.92 MB)\n"
            ],
            "text/html": [
              "<pre style=\"white-space:pre;overflow-x:auto;line-height:normal;font-family:Menlo,'DejaVu Sans Mono',consolas,'Courier New',monospace\"><span style=\"font-weight: bold\"> Trainable params: </span><span style=\"color: #00af00; text-decoration-color: #00af00\">7,842,762</span> (29.92 MB)\n",
              "</pre>\n"
            ]
          },
          "metadata": {}
        },
        {
          "output_type": "display_data",
          "data": {
            "text/plain": [
              "\u001b[1m Non-trainable params: \u001b[0m\u001b[38;5;34m0\u001b[0m (0.00 B)\n"
            ],
            "text/html": [
              "<pre style=\"white-space:pre;overflow-x:auto;line-height:normal;font-family:Menlo,'DejaVu Sans Mono',consolas,'Courier New',monospace\"><span style=\"font-weight: bold\"> Non-trainable params: </span><span style=\"color: #00af00; text-decoration-color: #00af00\">0</span> (0.00 B)\n",
              "</pre>\n"
            ]
          },
          "metadata": {}
        }
      ]
    },
    {
      "cell_type": "markdown",
      "source": [
        "**Training model**"
      ],
      "metadata": {
        "id": "0_fQhah_pvCo"
      }
    },
    {
      "cell_type": "code",
      "source": [
        "training_history=model.fit(x=training_set,validation_data=validation_set,epochs=10)"
      ],
      "metadata": {
        "id": "vO536cK0pxGn"
      },
      "execution_count": null,
      "outputs": []
    },
    {
      "cell_type": "markdown",
      "source": [
        "**Model Evaluation**"
      ],
      "metadata": {
        "id": "hYWoUf3N5Uj9"
      }
    },
    {
      "cell_type": "markdown",
      "source": [
        "Evaluation on training set"
      ],
      "metadata": {
        "id": "f5AePNw_5qye"
      }
    },
    {
      "cell_type": "code",
      "source": [
        "train_loss, train_acc = model.evaluate(training_set)"
      ],
      "metadata": {
        "id": "VIX8yf215YKG"
      },
      "execution_count": null,
      "outputs": []
    },
    {
      "cell_type": "code",
      "source": [
        "print(train_loss,train_acc)"
      ],
      "metadata": {
        "id": "gsR3JYZ55vQk"
      },
      "execution_count": null,
      "outputs": []
    },
    {
      "cell_type": "markdown",
      "source": [
        "Evaluation on Validation Set"
      ],
      "metadata": {
        "id": "_UVJiDLa52Y8"
      }
    },
    {
      "cell_type": "code",
      "source": [
        "val_loss, val_acc = model.evaluate(validation_set)"
      ],
      "metadata": {
        "id": "awDF2bYS56r5"
      },
      "execution_count": null,
      "outputs": []
    },
    {
      "cell_type": "code",
      "source": [
        "print(val_loss,val_acc)"
      ],
      "metadata": {
        "id": "LVQoPPuF7uZG"
      },
      "execution_count": null,
      "outputs": []
    },
    {
      "cell_type": "markdown",
      "source": [
        "**Saving Model**"
      ],
      "metadata": {
        "id": "QnZO7DzP70zp"
      }
    },
    {
      "cell_type": "code",
      "source": [
        "model.save(\"trained_model.keras\")"
      ],
      "metadata": {
        "id": "QO-BIWgz72zg"
      },
      "execution_count": 26,
      "outputs": []
    },
    {
      "cell_type": "code",
      "source": [
        "training_history.history"
      ],
      "metadata": {
        "colab": {
          "base_uri": "https://localhost:8080/",
          "height": 139
        },
        "collapsed": true,
        "id": "jMKLgUUd8z1J",
        "outputId": "46dc63b7-093b-49fe-daa4-f831e3d0b4f9"
      },
      "execution_count": 27,
      "outputs": [
        {
          "output_type": "error",
          "ename": "NameError",
          "evalue": "name 'training_history' is not defined",
          "traceback": [
            "\u001b[0;31m---------------------------------------------------------------------------\u001b[0m",
            "\u001b[0;31mNameError\u001b[0m                                 Traceback (most recent call last)",
            "\u001b[0;32m/tmp/ipython-input-224665476.py\u001b[0m in \u001b[0;36m<cell line: 0>\u001b[0;34m()\u001b[0m\n\u001b[0;32m----> 1\u001b[0;31m \u001b[0mtraining_history\u001b[0m\u001b[0;34m.\u001b[0m\u001b[0mhistory\u001b[0m\u001b[0;34m\u001b[0m\u001b[0;34m\u001b[0m\u001b[0m\n\u001b[0m",
            "\u001b[0;31mNameError\u001b[0m: name 'training_history' is not defined"
          ]
        }
      ]
    },
    {
      "cell_type": "markdown",
      "source": [
        "Recording History in json"
      ],
      "metadata": {
        "id": "JWEwUPr99Ja3"
      }
    },
    {
      "cell_type": "code",
      "source": [
        "import json\n",
        "with open(\"training_hist.json\",\"w\") as f:\n",
        "  json.dump(training_history.history,f)"
      ],
      "metadata": {
        "id": "B0zZAMbr9MUz"
      },
      "execution_count": null,
      "outputs": []
    },
    {
      "cell_type": "markdown",
      "source": [
        "**Accuracy Visualization**"
      ],
      "metadata": {
        "id": "lTL1vlmy-qax"
      }
    },
    {
      "cell_type": "code",
      "source": [
        "epochs = [i for i in range(1,11)]\n",
        "plt.plot(epochs,training_history.history['accuracy'],color='red',label='Training Accuracy')\n",
        "plt.plot(epochs,training_history.history['val_accuracy'],color='blue',label='Validation Accuracy')\n",
        "plt.xlabel(\"No of epochs\")\n",
        "plt.ylabel(\"Accuracy Result\")\n",
        "plt.title(\"Visualization of Accuracy Result\")\n",
        "plt.legend()\n",
        "plt.show()"
      ],
      "metadata": {
        "id": "EnDgLpxp-ui3"
      },
      "execution_count": null,
      "outputs": []
    }
  ]
}