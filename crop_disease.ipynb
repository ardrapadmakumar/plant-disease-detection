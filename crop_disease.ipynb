{
  "nbformat": 4,
  "nbformat_minor": 0,
  "metadata": {
    "colab": {
      "provenance": [],
      "gpuType": "T4",
      "mount_file_id": "13oZ92i2eFQt6c-nKFrvONnKxYobbs8ux",
      "authorship_tag": "ABX9TyOoj0NY+7UIpugvpoB7ZbeN",
      "include_colab_link": true
    },
    "kernelspec": {
      "name": "python3",
      "display_name": "Python 3"
    },
    "language_info": {
      "name": "python"
    },
    "accelerator": "GPU"
  },
  "cells": [
    {
      "cell_type": "markdown",
      "metadata": {
        "id": "view-in-github",
        "colab_type": "text"
      },
      "source": [
        "<a href=\"https://colab.research.google.com/github/ardrapadmakumar/plant-disease-detection/blob/main/crop_disease.ipynb\" target=\"_parent\"><img src=\"https://colab.research.google.com/assets/colab-badge.svg\" alt=\"Open In Colab\"/></a>"
      ]
    },
    {
      "cell_type": "markdown",
      "source": [
        "**Importing Libraries**"
      ],
      "metadata": {
        "id": "KMo3rg1U0SOr"
      }
    },
    {
      "cell_type": "code",
      "source": [
        "import tensorflow as tf\n",
        "import matplotlib.pyplot as plt\n",
        "import pandas as pd\n",
        "import seaborn as sns"
      ],
      "metadata": {
        "id": "Zo6T084I0Qe7"
      },
      "execution_count": null,
      "outputs": []
    },
    {
      "cell_type": "markdown",
      "source": [
        "Unzipping dataset"
      ],
      "metadata": {
        "id": "PUF0fmuUOI88"
      }
    },
    {
      "cell_type": "code",
      "source": [
        "#import zipfile\n",
        "#import os\n",
        "\n",
        "# Path to your zip file in Google Drive\n",
        "#zip_path = \"/content/drive/MyDrive/dataset/crop_dataset/Crop_disease/crop_diesease/train.zip\"\n",
        "\n",
        "# Path to extract\n",
        "#extract_path = \"/content/drive/MyDrive/dataset/crop_dataset/Crop_disease/crop_diesease\"\n",
        "\n",
        "# Unzipping\n",
        "#with zipfile.ZipFile(zip_path, 'r') as zip_ref:\n",
        "#    zip_ref.extractall(extract_path)\n",
        "\n",
        "#print(\"Extraction completed!\")"
      ],
      "metadata": {
        "id": "046PsIBhONMc",
        "colab": {
          "base_uri": "https://localhost:8080/"
        },
        "outputId": "4b28ecb2-d1bc-4e25-e6a9-61dcecdcc814"
      },
      "execution_count": null,
      "outputs": [
        {
          "output_type": "stream",
          "name": "stdout",
          "text": [
            "Extraction completed!\n"
          ]
        }
      ]
    },
    {
      "cell_type": "markdown",
      "source": [
        "**Data Preprocessing**\n"
      ],
      "metadata": {
        "id": "H_yV8y6y1idM"
      }
    },
    {
      "cell_type": "markdown",
      "source": [
        "Train- Image Preprocessing"
      ],
      "metadata": {
        "id": "ckn1_Gd_2LlP"
      }
    },
    {
      "cell_type": "code",
      "source": [
        "training_set = tf.keras.utils.image_dataset_from_directory(\n",
        "    '/content/drive/MyDrive/dataset/crop_dataset/Crop_disease/crop_diesease/train',\n",
        "    labels=\"inferred\",\n",
        "    label_mode=\"categorical\",\n",
        "    class_names=None,\n",
        "    color_mode=\"rgb\",\n",
        "    batch_size=32,\n",
        "    image_size=(128, 128),\n",
        "    shuffle=True,\n",
        "    seed=None,\n",
        "    validation_split=None,\n",
        "    subset=None,\n",
        "    interpolation=\"bilinear\",\n",
        "    follow_links=False,\n",
        "    crop_to_aspect_ratio=False,\n",
        "    pad_to_aspect_ratio=False,\n",
        "    verbose=True,\n",
        ")"
      ],
      "metadata": {
        "id": "wz1J6_EC1pfj",
        "colab": {
          "base_uri": "https://localhost:8080/"
        },
        "outputId": "9c3299f7-30f5-48ab-dee0-7d0307edd920"
      },
      "execution_count": null,
      "outputs": [
        {
          "output_type": "stream",
          "name": "stdout",
          "text": [
            "Found 70295 files belonging to 38 classes.\n"
          ]
        }
      ]
    },
    {
      "cell_type": "markdown",
      "source": [
        "Validation Image Processing"
      ],
      "metadata": {
        "id": "lUiLbK_ctyuL"
      }
    },
    {
      "cell_type": "code",
      "source": [
        "validation_set = tf.keras.utils.image_dataset_from_directory(\n",
        "    '/content/drive/MyDrive/dataset/crop_dataset/Crop_disease/crop_diesease/valid',\n",
        "    labels=\"inferred\",\n",
        "    label_mode=\"categorical\",\n",
        "    class_names=None,\n",
        "    color_mode=\"rgb\",\n",
        "    batch_size=32,\n",
        "    image_size=(128, 128),\n",
        "    shuffle=True,\n",
        "    seed=None,\n",
        "    validation_split=None,\n",
        "    subset=None,\n",
        "    interpolation=\"bilinear\",\n",
        "    follow_links=False,\n",
        "    crop_to_aspect_ratio=False,\n",
        "    pad_to_aspect_ratio=False,\n",
        "    verbose=True,\n",
        ")"
      ],
      "metadata": {
        "colab": {
          "base_uri": "https://localhost:8080/"
        },
        "id": "j3LbKKb7t8SH",
        "outputId": "d0621218-bb0c-43e2-814d-a2f561921ba7"
      },
      "execution_count": null,
      "outputs": [
        {
          "output_type": "stream",
          "name": "stdout",
          "text": [
            "Found 17572 files belonging to 38 classes.\n"
          ]
        }
      ]
    }
  ]
}